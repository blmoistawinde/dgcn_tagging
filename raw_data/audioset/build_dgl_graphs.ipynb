{
 "metadata": {
  "language_info": {
   "codemirror_mode": {
    "name": "ipython",
    "version": 3
   },
   "file_extension": ".py",
   "mimetype": "text/x-python",
   "name": "python",
   "nbconvert_exporter": "python",
   "pygments_lexer": "ipython3",
   "version": "3.6"
  },
  "orig_nbformat": 2,
  "kernelspec": {
   "name": "python361064bitpy36conda4f32697db52543acaedb8346d569b572",
   "display_name": "Python 3.6.10 64-bit ('py36': conda)"
  },
  "metadata": {
   "interpreter": {
    "hash": "deb5c85a0d181f020663b0781bb785da64b0ac73c1b94407b759932d81dbf297"
   }
  }
 },
 "nbformat": 4,
 "nbformat_minor": 2,
 "cells": [
  {
   "cell_type": "code",
   "execution_count": 1,
   "metadata": {},
   "outputs": [
    {
     "output_type": "stream",
     "name": "stderr",
     "text": [
      "Using backend: pytorch\n"
     ]
    }
   ],
   "source": [
    "import os\n",
    "import re\n",
    "import json\n",
    "import numpy as np\n",
    "import pandas as pd\n",
    "import networkx as nx\n",
    "import matplotlib.pyplot as plt\n",
    "from collections import defaultdict, Counter\n",
    "from tqdm import tqdm, tqdm_notebook\n",
    "from itertools import combinations\n",
    "from scipy.sparse.csr import csr_matrix\n",
    "import dgl\n",
    "from dgl import DGLGraph\n",
    "from dgl.data.utils import save_graphs, load_graphs"
   ]
  },
  {
   "cell_type": "code",
   "execution_count": 6,
   "metadata": {},
   "outputs": [],
   "source": [
    "import torch\n",
    "import pickle"
   ]
  },
  {
   "cell_type": "code",
   "execution_count": 2,
   "metadata": {},
   "outputs": [
    {
     "output_type": "stream",
     "name": "stdout",
     "text": [
      "['Accelerating_and_revving_and_vroom', 'Accordion', 'Acoustic_guitar', 'Applause', 'Bark', 'Bass_drum', 'Bass_guitar', 'Bathtub_(filling_or_washing)', 'Bicycle_bell', 'Burping_and_eructation', 'Bus', 'Buzz', 'Car_passing_by', 'Cheering', 'Chewing_and_mastication', 'Child_speech_and_kid_speaking', 'Chink_and_clink', 'Chirp_and_tweet', 'Church_bell', 'Clapping', 'Computer_keyboard', 'Crackle', 'Cricket', 'Crowd', 'Cupboard_open_or_close', 'Cutlery_and_silverware', 'Dishes_and_pots_and_pans', 'Drawer_open_or_close', 'Drip', 'Electric_guitar', 'Fart', 'Female_singing', 'Female_speech_and_woman_speaking', 'Fill_(with_liquid)', 'Finger_snapping', 'Frying_(food)', 'Gasp', 'Glockenspiel', 'Gong', 'Gurgling', 'Harmonica', 'Hi-hat', 'Hiss', 'Keys_jangling', 'Knock', 'Male_singing', 'Male_speech_and_man_speaking', 'Marimba_and_xylophone', 'Mechanical_fan', 'Meow', 'Microwave_oven', 'Motorcycle', 'Printer', 'Purr', 'Race_car_and_auto_racing', 'Raindrop', 'Run', 'Scissors', 'Screaming', 'Shatter', 'Sigh', 'Sink_(filling_or_washing)', 'Skateboard', 'Slam', 'Sneeze', 'Squeak', 'Stream', 'Strum', 'Tap', 'Tick-tock', 'Toilet_flush', 'Traffic_noise_and_roadway_noise', 'Trickle_and_dribble', 'Walk_and_footsteps', 'Water_tap_and_faucet', 'Waves_and_surf', 'Whispering', 'Writing', 'Yell', 'Zipper_(clothing)']\n"
     ]
    }
   ],
   "source": [
    "label_set = pd.read_csv(\"/home/zhiling/py3_workspace/freesound-audio-tagging-2019/input/sample_submission.csv\", header=0, index_col=0).columns.tolist()\n",
    "print(label_set)"
   ]
  },
  {
   "cell_type": "code",
   "execution_count": 3,
   "metadata": {},
   "outputs": [],
   "source": [
    "label2index = {v:i for i, v in enumerate(label_set)}"
   ]
  },
  {
   "cell_type": "code",
   "execution_count": 4,
   "metadata": {},
   "outputs": [],
   "source": [
    "def preprocess_aname(name0):\n",
    "    return name0.replace(\", \", \" and \").replace(\" and and \", \" and \").replace(\" \", \"_\")"
   ]
  },
  {
   "cell_type": "code",
   "execution_count": 5,
   "metadata": {},
   "outputs": [
    {
     "output_type": "stream",
     "name": "stdout",
     "text": [
      "632\n[416, 238, 162, 77, 86, 190, 161, 437, 232, 65, 383, 149, 376, 76, 61, 5, 512, 130, 230, 70, 453, 359, 146, 79, 426, 429, 428, 427, 518, 160, 67, 35, 4, 522, 69, 431, 49, 204, 200, 357, 237, 194, 96, 445, 423, 34, 3, 203, 480, 95, 432, 388, 483, 94, 377, 350, 57, 448, 16, 513, 28, 436, 405, 422, 54, 425, 352, 165, 424, 476, 439, 389, 520, 59, 435, 355, 17, 454, 13, 443]\n"
     ]
    }
   ],
   "source": [
    "alabel2index = {}\n",
    "aid2index = {}\n",
    "audioset = {}\n",
    "with open(\"/home/zhiling/py3_workspace/freesound-audio-tagging-2019/input/ontology.json\") as f:\n",
    "    json0 = json.load(f)\n",
    "    for i, record in enumerate(json0):\n",
    "        id0, name0 = record[\"id\"], record[\"name\"]\n",
    "        name0 = preprocess_aname(name0)\n",
    "        audioset[id0] = record\n",
    "        alabel2index[name0] = i\n",
    "        aid2index[id0] = i\n",
    "print(len(audioset))\n",
    "# indices of labels in the whole of audioset\n",
    "class_indices = [alabel2index[label] for label in label_set]\n",
    "print(class_indices)"
   ]
  },
  {
   "cell_type": "code",
   "execution_count": 7,
   "metadata": {},
   "outputs": [],
   "source": [
    "def to_binary(mat, threshold=0.4):\n",
    "    # binarize according to conditional probability > threshold\n",
    "    # ref: Multi-Label Image Recognition with Graph Convolutional Networks\n",
    "    cond_prob = mat / mat.sum(axis=1, keepdims=True)\n",
    "    return (cond_prob >= threshold).astype(int)"
   ]
  },
  {
   "cell_type": "code",
   "execution_count": 8,
   "metadata": {},
   "outputs": [
    {
     "output_type": "execute_result",
     "data": {
      "text/plain": [
       "6269"
      ]
     },
     "metadata": {},
     "execution_count": 8
    }
   ],
   "source": [
    "extracted_audioset_rels_sel = json.load(open(\"/home/zhiling/py3_workspace/freesound-audio-tagging-2019/reorg_code/extracted_audioset_rels_sel.json\", encoding=\"utf-8\"))\n",
    "len(extracted_audioset_rels_sel)"
   ]
  },
  {
   "cell_type": "code",
   "execution_count": 9,
   "metadata": {},
   "outputs": [],
   "source": [
    "N_nodes = len(audioset)"
   ]
  },
  {
   "cell_type": "code",
   "execution_count": 10,
   "metadata": {},
   "outputs": [
    {
     "output_type": "execute_result",
     "data": {
      "text/plain": [
       "1682"
      ]
     },
     "metadata": {},
     "execution_count": 10
    }
   ],
   "source": [
    "extracted_audioset_rels_v2 = json.load(open(\"/home/zhiling/py3_workspace/freesound-audio-tagging-2019/reorg_code/extracted_audioset_rels_v2.json\", encoding=\"utf-8\"))\n",
    "len(extracted_audioset_rels_v2)"
   ]
  },
  {
   "cell_type": "code",
   "execution_count": 11,
   "metadata": {},
   "outputs": [
    {
     "output_type": "execute_result",
     "data": {
      "text/plain": [
       "32086"
      ]
     },
     "metadata": {},
     "execution_count": 11
    }
   ],
   "source": [
    "extracted_audioset_rels_v3 = json.load(open(\"/home/zhiling/py3_workspace/freesound-audio-tagging-2019/reorg_code/extracted_audioset_rels_v3.json\", encoding=\"utf-8\"))\n",
    "len(extracted_audioset_rels_v3)"
   ]
  },
  {
   "source": [
    "## type 1 graph: 80 nodes\n",
    "\n",
    "nodes == labels"
   ],
   "cell_type": "markdown",
   "metadata": {}
  },
  {
   "cell_type": "code",
   "execution_count": 7,
   "metadata": {},
   "outputs": [],
   "source": [
    "train_curated = pd.read_csv(\"/home/zhiling/py3_workspace/freesound-audio-tagging-2019/input/train_curated.csv\")\n",
    "train_noisy = pd.read_csv(\"/home/zhiling/py3_workspace/freesound-audio-tagging-2019/input/train_noisy.csv\")"
   ]
  },
  {
   "cell_type": "code",
   "execution_count": 8,
   "metadata": {},
   "outputs": [
    {
     "output_type": "stream",
     "name": "stdout",
     "text": [
      "155\n"
     ]
    },
    {
     "output_type": "display_data",
     "data": {
      "text/plain": "<Figure size 576x576 with 1 Axes>",
      "image/svg+xml": "<?xml version=\"1.0\" encoding=\"utf-8\" standalone=\"no\"?>\n<!DOCTYPE svg PUBLIC \"-//W3C//DTD SVG 1.1//EN\"\n  \"http://www.w3.org/Graphics/SVG/1.1/DTD/svg11.dtd\">\n<!-- Created with matplotlib (https://matplotlib.org/) -->\n<svg height=\"469.458125pt\" version=\"1.1\" viewBox=\"0 0 469.005 469.458125\" width=\"469.005pt\" xmlns=\"http://www.w3.org/2000/svg\" xmlns:xlink=\"http://www.w3.org/1999/xlink\">\n <metadata>\n  <rdf:RDF xmlns:cc=\"http://creativecommons.org/ns#\" xmlns:dc=\"http://purl.org/dc/elements/1.1/\" xmlns:rdf=\"http://www.w3.org/1999/02/22-rdf-syntax-ns#\">\n   <cc:Work>\n    <dc:type rdf:resource=\"http://purl.org/dc/dcmitype/StillImage\"/>\n    <dc:date>2021-02-13T15:22:00.419313</dc:date>\n    <dc:format>image/svg+xml</dc:format>\n    <dc:creator>\n     <cc:Agent>\n      <dc:title>Matplotlib v3.3.4, https://matplotlib.org/</dc:title>\n     </cc:Agent>\n    </dc:creator>\n   </cc:Work>\n  </rdf:RDF>\n </metadata>\n <defs>\n  <style type=\"text/css\">*{stroke-linecap:butt;stroke-linejoin:round;}</style>\n </defs>\n <g id=\"figure_1\">\n  <g id=\"patch_1\">\n   <path d=\"M 0 469.458125 \nL 469.005 469.458125 \nL 469.005 0 \nL 0 0 \nz\n\" style=\"fill:none;\"/>\n  </g>\n  <g id=\"axes_1\">\n   <g id=\"patch_2\">\n    <path d=\"M 26.925 458.758125 \nL 461.805 458.758125 \nL 461.805 23.878125 \nL 26.925 23.878125 \nz\n\" style=\"fill:#ffffff;\"/>\n   </g>\n   <g clip-path=\"url(#pe9aeac16ff)\">\n    <image height=\"435\" id=\"image8f4c53fbbf\" transform=\"scale(1 -1)translate(0 -435)\" width=\"435\" x=\"26.925\" xlink:href=\"data:image/png;base64,\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\" y=\"-23.758125\"/>\n   </g>\n   <g id=\"matplotlib.axis_1\">\n    <g id=\"xtick_1\">\n     <g id=\"line2d_1\">\n      <defs>\n       <path d=\"M 0 0 \nL 0 3.5 \n\" id=\"md2681023a7\" style=\"stroke:#000000;stroke-width:0.8;\"/>\n      </defs>\n      <g>\n       <use style=\"stroke:#000000;stroke-width:0.8;\" x=\"29.643\" xlink:href=\"#md2681023a7\" y=\"458.758125\"/>\n      </g>\n     </g>\n     <g id=\"line2d_2\">\n      <defs>\n       <path d=\"M 0 0 \nL 0 -3.5 \n\" id=\"mcd717001e5\" style=\"stroke:#000000;stroke-width:0.8;\"/>\n      </defs>\n      <g>\n       <use style=\"stroke:#000000;stroke-width:0.8;\" x=\"29.643\" xlink:href=\"#mcd717001e5\" y=\"23.878125\"/>\n      </g>\n     </g>\n     <g id=\"text_1\">\n      <!-- 0 -->\n      <g transform=\"translate(26.46175 14.798438)scale(0.1 -0.1)\">\n       <defs>\n        <path d=\"M 31.78125 66.40625 \nQ 24.171875 66.40625 20.328125 58.90625 \nQ 16.5 51.421875 16.5 36.375 \nQ 16.5 21.390625 20.328125 13.890625 \nQ 24.171875 6.390625 31.78125 6.390625 \nQ 39.453125 6.390625 43.28125 13.890625 \nQ 47.125 21.390625 47.125 36.375 \nQ 47.125 51.421875 43.28125 58.90625 \nQ 39.453125 66.40625 31.78125 66.40625 \nz\nM 31.78125 74.21875 \nQ 44.046875 74.21875 50.515625 64.515625 \nQ 56.984375 54.828125 56.984375 36.375 \nQ 56.984375 17.96875 50.515625 8.265625 \nQ 44.046875 -1.421875 31.78125 -1.421875 \nQ 19.53125 -1.421875 13.0625 8.265625 \nQ 6.59375 17.96875 6.59375 36.375 \nQ 6.59375 54.828125 13.0625 64.515625 \nQ 19.53125 74.21875 31.78125 74.21875 \nz\n\" id=\"DejaVuSans-48\"/>\n       </defs>\n       <use xlink:href=\"#DejaVuSans-48\"/>\n      </g>\n     </g>\n    </g>\n    <g id=\"xtick_2\">\n     <g id=\"line2d_3\">\n      <g>\n       <use style=\"stroke:#000000;stroke-width:0.8;\" x=\"84.003\" xlink:href=\"#md2681023a7\" y=\"458.758125\"/>\n      </g>\n     </g>\n     <g id=\"line2d_4\">\n      <g>\n       <use style=\"stroke:#000000;stroke-width:0.8;\" x=\"84.003\" xlink:href=\"#mcd717001e5\" y=\"23.878125\"/>\n      </g>\n     </g>\n     <g id=\"text_2\">\n      <!-- 10 -->\n      <g transform=\"translate(77.6405 14.798438)scale(0.1 -0.1)\">\n       <defs>\n        <path d=\"M 12.40625 8.296875 \nL 28.515625 8.296875 \nL 28.515625 63.921875 \nL 10.984375 60.40625 \nL 10.984375 69.390625 \nL 28.421875 72.90625 \nL 38.28125 72.90625 \nL 38.28125 8.296875 \nL 54.390625 8.296875 \nL 54.390625 0 \nL 12.40625 0 \nz\n\" id=\"DejaVuSans-49\"/>\n       </defs>\n       <use xlink:href=\"#DejaVuSans-49\"/>\n       <use x=\"63.623047\" xlink:href=\"#DejaVuSans-48\"/>\n      </g>\n     </g>\n    </g>\n    <g id=\"xtick_3\">\n     <g id=\"line2d_5\">\n      <g>\n       <use style=\"stroke:#000000;stroke-width:0.8;\" x=\"138.363\" xlink:href=\"#md2681023a7\" y=\"458.758125\"/>\n      </g>\n     </g>\n     <g id=\"line2d_6\">\n      <g>\n       <use style=\"stroke:#000000;stroke-width:0.8;\" x=\"138.363\" xlink:href=\"#mcd717001e5\" y=\"23.878125\"/>\n      </g>\n     </g>\n     <g id=\"text_3\">\n      <!-- 20 -->\n      <g transform=\"translate(132.0005 14.798438)scale(0.1 -0.1)\">\n       <defs>\n        <path d=\"M 19.1875 8.296875 \nL 53.609375 8.296875 \nL 53.609375 0 \nL 7.328125 0 \nL 7.328125 8.296875 \nQ 12.9375 14.109375 22.625 23.890625 \nQ 32.328125 33.6875 34.8125 36.53125 \nQ 39.546875 41.84375 41.421875 45.53125 \nQ 43.3125 49.21875 43.3125 52.78125 \nQ 43.3125 58.59375 39.234375 62.25 \nQ 35.15625 65.921875 28.609375 65.921875 \nQ 23.96875 65.921875 18.8125 64.3125 \nQ 13.671875 62.703125 7.8125 59.421875 \nL 7.8125 69.390625 \nQ 13.765625 71.78125 18.9375 73 \nQ 24.125 74.21875 28.421875 74.21875 \nQ 39.75 74.21875 46.484375 68.546875 \nQ 53.21875 62.890625 53.21875 53.421875 \nQ 53.21875 48.921875 51.53125 44.890625 \nQ 49.859375 40.875 45.40625 35.40625 \nQ 44.1875 33.984375 37.640625 27.21875 \nQ 31.109375 20.453125 19.1875 8.296875 \nz\n\" id=\"DejaVuSans-50\"/>\n       </defs>\n       <use xlink:href=\"#DejaVuSans-50\"/>\n       <use x=\"63.623047\" xlink:href=\"#DejaVuSans-48\"/>\n      </g>\n     </g>\n    </g>\n    <g id=\"xtick_4\">\n     <g id=\"line2d_7\">\n      <g>\n       <use style=\"stroke:#000000;stroke-width:0.8;\" x=\"192.723\" xlink:href=\"#md2681023a7\" y=\"458.758125\"/>\n      </g>\n     </g>\n     <g id=\"line2d_8\">\n      <g>\n       <use style=\"stroke:#000000;stroke-width:0.8;\" x=\"192.723\" xlink:href=\"#mcd717001e5\" y=\"23.878125\"/>\n      </g>\n     </g>\n     <g id=\"text_4\">\n      <!-- 30 -->\n      <g transform=\"translate(186.3605 14.798438)scale(0.1 -0.1)\">\n       <defs>\n        <path d=\"M 40.578125 39.3125 \nQ 47.65625 37.796875 51.625 33 \nQ 55.609375 28.21875 55.609375 21.1875 \nQ 55.609375 10.40625 48.1875 4.484375 \nQ 40.765625 -1.421875 27.09375 -1.421875 \nQ 22.515625 -1.421875 17.65625 -0.515625 \nQ 12.796875 0.390625 7.625 2.203125 \nL 7.625 11.71875 \nQ 11.71875 9.328125 16.59375 8.109375 \nQ 21.484375 6.890625 26.8125 6.890625 \nQ 36.078125 6.890625 40.9375 10.546875 \nQ 45.796875 14.203125 45.796875 21.1875 \nQ 45.796875 27.640625 41.28125 31.265625 \nQ 36.765625 34.90625 28.71875 34.90625 \nL 20.21875 34.90625 \nL 20.21875 43.015625 \nL 29.109375 43.015625 \nQ 36.375 43.015625 40.234375 45.921875 \nQ 44.09375 48.828125 44.09375 54.296875 \nQ 44.09375 59.90625 40.109375 62.90625 \nQ 36.140625 65.921875 28.71875 65.921875 \nQ 24.65625 65.921875 20.015625 65.03125 \nQ 15.375 64.15625 9.8125 62.3125 \nL 9.8125 71.09375 \nQ 15.4375 72.65625 20.34375 73.4375 \nQ 25.25 74.21875 29.59375 74.21875 \nQ 40.828125 74.21875 47.359375 69.109375 \nQ 53.90625 64.015625 53.90625 55.328125 \nQ 53.90625 49.265625 50.4375 45.09375 \nQ 46.96875 40.921875 40.578125 39.3125 \nz\n\" id=\"DejaVuSans-51\"/>\n       </defs>\n       <use xlink:href=\"#DejaVuSans-51\"/>\n       <use x=\"63.623047\" xlink:href=\"#DejaVuSans-48\"/>\n      </g>\n     </g>\n    </g>\n    <g id=\"xtick_5\">\n     <g id=\"line2d_9\">\n      <g>\n       <use style=\"stroke:#000000;stroke-width:0.8;\" x=\"247.083\" xlink:href=\"#md2681023a7\" y=\"458.758125\"/>\n      </g>\n     </g>\n     <g id=\"line2d_10\">\n      <g>\n       <use style=\"stroke:#000000;stroke-width:0.8;\" x=\"247.083\" xlink:href=\"#mcd717001e5\" y=\"23.878125\"/>\n      </g>\n     </g>\n     <g id=\"text_5\">\n      <!-- 40 -->\n      <g transform=\"translate(240.7205 14.798438)scale(0.1 -0.1)\">\n       <defs>\n        <path d=\"M 37.796875 64.3125 \nL 12.890625 25.390625 \nL 37.796875 25.390625 \nz\nM 35.203125 72.90625 \nL 47.609375 72.90625 \nL 47.609375 25.390625 \nL 58.015625 25.390625 \nL 58.015625 17.1875 \nL 47.609375 17.1875 \nL 47.609375 0 \nL 37.796875 0 \nL 37.796875 17.1875 \nL 4.890625 17.1875 \nL 4.890625 26.703125 \nz\n\" id=\"DejaVuSans-52\"/>\n       </defs>\n       <use xlink:href=\"#DejaVuSans-52\"/>\n       <use x=\"63.623047\" xlink:href=\"#DejaVuSans-48\"/>\n      </g>\n     </g>\n    </g>\n    <g id=\"xtick_6\">\n     <g id=\"line2d_11\">\n      <g>\n       <use style=\"stroke:#000000;stroke-width:0.8;\" x=\"301.443\" xlink:href=\"#md2681023a7\" y=\"458.758125\"/>\n      </g>\n     </g>\n     <g id=\"line2d_12\">\n      <g>\n       <use style=\"stroke:#000000;stroke-width:0.8;\" x=\"301.443\" xlink:href=\"#mcd717001e5\" y=\"23.878125\"/>\n      </g>\n     </g>\n     <g id=\"text_6\">\n      <!-- 50 -->\n      <g transform=\"translate(295.0805 14.798438)scale(0.1 -0.1)\">\n       <defs>\n        <path d=\"M 10.796875 72.90625 \nL 49.515625 72.90625 \nL 49.515625 64.59375 \nL 19.828125 64.59375 \nL 19.828125 46.734375 \nQ 21.96875 47.46875 24.109375 47.828125 \nQ 26.265625 48.1875 28.421875 48.1875 \nQ 40.625 48.1875 47.75 41.5 \nQ 54.890625 34.8125 54.890625 23.390625 \nQ 54.890625 11.625 47.5625 5.09375 \nQ 40.234375 -1.421875 26.90625 -1.421875 \nQ 22.3125 -1.421875 17.546875 -0.640625 \nQ 12.796875 0.140625 7.71875 1.703125 \nL 7.71875 11.625 \nQ 12.109375 9.234375 16.796875 8.0625 \nQ 21.484375 6.890625 26.703125 6.890625 \nQ 35.15625 6.890625 40.078125 11.328125 \nQ 45.015625 15.765625 45.015625 23.390625 \nQ 45.015625 31 40.078125 35.4375 \nQ 35.15625 39.890625 26.703125 39.890625 \nQ 22.75 39.890625 18.8125 39.015625 \nQ 14.890625 38.140625 10.796875 36.28125 \nz\n\" id=\"DejaVuSans-53\"/>\n       </defs>\n       <use xlink:href=\"#DejaVuSans-53\"/>\n       <use x=\"63.623047\" xlink:href=\"#DejaVuSans-48\"/>\n      </g>\n     </g>\n    </g>\n    <g id=\"xtick_7\">\n     <g id=\"line2d_13\">\n      <g>\n       <use style=\"stroke:#000000;stroke-width:0.8;\" x=\"355.803\" xlink:href=\"#md2681023a7\" y=\"458.758125\"/>\n      </g>\n     </g>\n     <g id=\"line2d_14\">\n      <g>\n       <use style=\"stroke:#000000;stroke-width:0.8;\" x=\"355.803\" xlink:href=\"#mcd717001e5\" y=\"23.878125\"/>\n      </g>\n     </g>\n     <g id=\"text_7\">\n      <!-- 60 -->\n      <g transform=\"translate(349.4405 14.798438)scale(0.1 -0.1)\">\n       <defs>\n        <path d=\"M 33.015625 40.375 \nQ 26.375 40.375 22.484375 35.828125 \nQ 18.609375 31.296875 18.609375 23.390625 \nQ 18.609375 15.53125 22.484375 10.953125 \nQ 26.375 6.390625 33.015625 6.390625 \nQ 39.65625 6.390625 43.53125 10.953125 \nQ 47.40625 15.53125 47.40625 23.390625 \nQ 47.40625 31.296875 43.53125 35.828125 \nQ 39.65625 40.375 33.015625 40.375 \nz\nM 52.59375 71.296875 \nL 52.59375 62.3125 \nQ 48.875 64.0625 45.09375 64.984375 \nQ 41.3125 65.921875 37.59375 65.921875 \nQ 27.828125 65.921875 22.671875 59.328125 \nQ 17.53125 52.734375 16.796875 39.40625 \nQ 19.671875 43.65625 24.015625 45.921875 \nQ 28.375 48.1875 33.59375 48.1875 \nQ 44.578125 48.1875 50.953125 41.515625 \nQ 57.328125 34.859375 57.328125 23.390625 \nQ 57.328125 12.15625 50.6875 5.359375 \nQ 44.046875 -1.421875 33.015625 -1.421875 \nQ 20.359375 -1.421875 13.671875 8.265625 \nQ 6.984375 17.96875 6.984375 36.375 \nQ 6.984375 53.65625 15.1875 63.9375 \nQ 23.390625 74.21875 37.203125 74.21875 \nQ 40.921875 74.21875 44.703125 73.484375 \nQ 48.484375 72.75 52.59375 71.296875 \nz\n\" id=\"DejaVuSans-54\"/>\n       </defs>\n       <use xlink:href=\"#DejaVuSans-54\"/>\n       <use x=\"63.623047\" xlink:href=\"#DejaVuSans-48\"/>\n      </g>\n     </g>\n    </g>\n    <g id=\"xtick_8\">\n     <g id=\"line2d_15\">\n      <g>\n       <use style=\"stroke:#000000;stroke-width:0.8;\" x=\"410.163\" xlink:href=\"#md2681023a7\" y=\"458.758125\"/>\n      </g>\n     </g>\n     <g id=\"line2d_16\">\n      <g>\n       <use style=\"stroke:#000000;stroke-width:0.8;\" x=\"410.163\" xlink:href=\"#mcd717001e5\" y=\"23.878125\"/>\n      </g>\n     </g>\n     <g id=\"text_8\">\n      <!-- 70 -->\n      <g transform=\"translate(403.8005 14.798438)scale(0.1 -0.1)\">\n       <defs>\n        <path d=\"M 8.203125 72.90625 \nL 55.078125 72.90625 \nL 55.078125 68.703125 \nL 28.609375 0 \nL 18.3125 0 \nL 43.21875 64.59375 \nL 8.203125 64.59375 \nz\n\" id=\"DejaVuSans-55\"/>\n       </defs>\n       <use xlink:href=\"#DejaVuSans-55\"/>\n       <use x=\"63.623047\" xlink:href=\"#DejaVuSans-48\"/>\n      </g>\n     </g>\n    </g>\n   </g>\n   <g id=\"matplotlib.axis_2\">\n    <g id=\"ytick_1\">\n     <g id=\"line2d_17\">\n      <defs>\n       <path d=\"M 0 0 \nL -3.5 0 \n\" id=\"m0a41f18376\" style=\"stroke:#000000;stroke-width:0.8;\"/>\n      </defs>\n      <g>\n       <use style=\"stroke:#000000;stroke-width:0.8;\" x=\"26.925\" xlink:href=\"#m0a41f18376\" y=\"26.596125\"/>\n      </g>\n     </g>\n     <g id=\"text_9\">\n      <!-- 0 -->\n      <g transform=\"translate(13.5625 30.395344)scale(0.1 -0.1)\">\n       <use xlink:href=\"#DejaVuSans-48\"/>\n      </g>\n     </g>\n    </g>\n    <g id=\"ytick_2\">\n     <g id=\"line2d_18\">\n      <g>\n       <use style=\"stroke:#000000;stroke-width:0.8;\" x=\"26.925\" xlink:href=\"#m0a41f18376\" y=\"80.956125\"/>\n      </g>\n     </g>\n     <g id=\"text_10\">\n      <!-- 10 -->\n      <g transform=\"translate(7.2 84.755344)scale(0.1 -0.1)\">\n       <use xlink:href=\"#DejaVuSans-49\"/>\n       <use x=\"63.623047\" xlink:href=\"#DejaVuSans-48\"/>\n      </g>\n     </g>\n    </g>\n    <g id=\"ytick_3\">\n     <g id=\"line2d_19\">\n      <g>\n       <use style=\"stroke:#000000;stroke-width:0.8;\" x=\"26.925\" xlink:href=\"#m0a41f18376\" y=\"135.316125\"/>\n      </g>\n     </g>\n     <g id=\"text_11\">\n      <!-- 20 -->\n      <g transform=\"translate(7.2 139.115344)scale(0.1 -0.1)\">\n       <use xlink:href=\"#DejaVuSans-50\"/>\n       <use x=\"63.623047\" xlink:href=\"#DejaVuSans-48\"/>\n      </g>\n     </g>\n    </g>\n    <g id=\"ytick_4\">\n     <g id=\"line2d_20\">\n      <g>\n       <use style=\"stroke:#000000;stroke-width:0.8;\" x=\"26.925\" xlink:href=\"#m0a41f18376\" y=\"189.676125\"/>\n      </g>\n     </g>\n     <g id=\"text_12\">\n      <!-- 30 -->\n      <g transform=\"translate(7.2 193.475344)scale(0.1 -0.1)\">\n       <use xlink:href=\"#DejaVuSans-51\"/>\n       <use x=\"63.623047\" xlink:href=\"#DejaVuSans-48\"/>\n      </g>\n     </g>\n    </g>\n    <g id=\"ytick_5\">\n     <g id=\"line2d_21\">\n      <g>\n       <use style=\"stroke:#000000;stroke-width:0.8;\" x=\"26.925\" xlink:href=\"#m0a41f18376\" y=\"244.036125\"/>\n      </g>\n     </g>\n     <g id=\"text_13\">\n      <!-- 40 -->\n      <g transform=\"translate(7.2 247.835344)scale(0.1 -0.1)\">\n       <use xlink:href=\"#DejaVuSans-52\"/>\n       <use x=\"63.623047\" xlink:href=\"#DejaVuSans-48\"/>\n      </g>\n     </g>\n    </g>\n    <g id=\"ytick_6\">\n     <g id=\"line2d_22\">\n      <g>\n       <use style=\"stroke:#000000;stroke-width:0.8;\" x=\"26.925\" xlink:href=\"#m0a41f18376\" y=\"298.396125\"/>\n      </g>\n     </g>\n     <g id=\"text_14\">\n      <!-- 50 -->\n      <g transform=\"translate(7.2 302.195344)scale(0.1 -0.1)\">\n       <use xlink:href=\"#DejaVuSans-53\"/>\n       <use x=\"63.623047\" xlink:href=\"#DejaVuSans-48\"/>\n      </g>\n     </g>\n    </g>\n    <g id=\"ytick_7\">\n     <g id=\"line2d_23\">\n      <g>\n       <use style=\"stroke:#000000;stroke-width:0.8;\" x=\"26.925\" xlink:href=\"#m0a41f18376\" y=\"352.756125\"/>\n      </g>\n     </g>\n     <g id=\"text_15\">\n      <!-- 60 -->\n      <g transform=\"translate(7.2 356.555344)scale(0.1 -0.1)\">\n       <use xlink:href=\"#DejaVuSans-54\"/>\n       <use x=\"63.623047\" xlink:href=\"#DejaVuSans-48\"/>\n      </g>\n     </g>\n    </g>\n    <g id=\"ytick_8\">\n     <g id=\"line2d_24\">\n      <g>\n       <use style=\"stroke:#000000;stroke-width:0.8;\" x=\"26.925\" xlink:href=\"#m0a41f18376\" y=\"407.116125\"/>\n      </g>\n     </g>\n     <g id=\"text_16\">\n      <!-- 70 -->\n      <g transform=\"translate(7.2 410.915344)scale(0.1 -0.1)\">\n       <use xlink:href=\"#DejaVuSans-55\"/>\n       <use x=\"63.623047\" xlink:href=\"#DejaVuSans-48\"/>\n      </g>\n     </g>\n    </g>\n   </g>\n   <g id=\"patch_3\">\n    <path d=\"M 26.925 458.758125 \nL 26.925 23.878125 \n\" style=\"fill:none;stroke:#000000;stroke-linecap:square;stroke-linejoin:miter;stroke-width:0.8;\"/>\n   </g>\n   <g id=\"patch_4\">\n    <path d=\"M 461.805 458.758125 \nL 461.805 23.878125 \n\" style=\"fill:none;stroke:#000000;stroke-linecap:square;stroke-linejoin:miter;stroke-width:0.8;\"/>\n   </g>\n   <g id=\"patch_5\">\n    <path d=\"M 26.925 458.758125 \nL 461.805 458.758125 \n\" style=\"fill:none;stroke:#000000;stroke-linecap:square;stroke-linejoin:miter;stroke-width:0.8;\"/>\n   </g>\n   <g id=\"patch_6\">\n    <path d=\"M 26.925 23.878125 \nL 461.805 23.878125 \n\" style=\"fill:none;stroke:#000000;stroke-linecap:square;stroke-linejoin:miter;stroke-width:0.8;\"/>\n   </g>\n  </g>\n </g>\n <defs>\n  <clipPath id=\"pe9aeac16ff\">\n   <rect height=\"434.88\" width=\"434.88\" x=\"26.925\" y=\"23.878125\"/>\n  </clipPath>\n </defs>\n</svg>\n",
      "image/png": "[encoded data removed]"
     },
     "metadata": {
      "needs_background": "light"
     }
    }
   ],
   "source": [
    "N_labels = len(label2index)\n",
    "adj_curated = np.zeros((N_labels, N_labels))\n",
    "for labels0 in train_curated[\"labels\"]:\n",
    "    labels0 = labels0.split(\",\")\n",
    "    if len(labels0) > 1:\n",
    "        for a, b in combinations(labels0, 2):\n",
    "            ida, idb = label2index[a], label2index[b]\n",
    "            adj_curated[ida, idb] += 1\n",
    "            adj_curated[idb, ida] += 1\n",
    "adj_curated_b = to_binary(adj_curated, 0.1)\n",
    "fig = plt.figure(figsize=(8,8))\n",
    "plt.matshow(adj_curated_b, fignum=0)\n",
    "print(adj_curated_b.sum())\n",
    "plt.show()"
   ]
  },
  {
   "cell_type": "code",
   "execution_count": 9,
   "metadata": {},
   "outputs": [
    {
     "output_type": "execute_result",
     "data": {
      "text/plain": [
       "Graph(num_nodes=80, num_edges=235,\n",
       "      ndata_schemes={}\n",
       "      edata_schemes={})"
      ]
     },
     "metadata": {},
     "execution_count": 9
    }
   ],
   "source": [
    "dgl_curated_b = dgl.from_scipy(csr_matrix(adj_curated_b))\n",
    "dgl_curated_b = dgl_curated_b.add_self_loop()\n",
    "dgl_curated_b"
   ]
  },
  {
   "cell_type": "code",
   "execution_count": 10,
   "metadata": {},
   "outputs": [],
   "source": [
    "with open(\"../input/curated_0.1_graph.pkl\", \"wb\") as f:\n",
    "    pickle.dump([dgl_curated_b, np.arange(80)], f)"
   ]
  },
  {
   "cell_type": "code",
   "execution_count": 11,
   "metadata": {},
   "outputs": [
    {
     "output_type": "execute_result",
     "data": {
      "text/plain": [
       "Graph(num_nodes=80, num_edges=235,\n",
       "      ndata_schemes={}\n",
       "      edata_schemes={})"
      ]
     },
     "metadata": {},
     "execution_count": 11
    }
   ],
   "source": [
    "tmp_g, tmp_indices = pickle.load(open(\"../input/curated_0.1_graph.pkl\", \"rb\"))\n",
    "tmp_g"
   ]
  },
  {
   "cell_type": "code",
   "execution_count": 12,
   "metadata": {},
   "outputs": [
    {
     "output_type": "stream",
     "name": "stdout",
     "text": [
      "173\n"
     ]
    },
    {
     "output_type": "display_data",
     "data": {
      "text/plain": "<Figure size 576x576 with 1 Axes>",
      "image/svg+xml": "<?xml version=\"1.0\" encoding=\"utf-8\" standalone=\"no\"?>\n<!DOCTYPE svg PUBLIC \"-//W3C//DTD SVG 1.1//EN\"\n  \"http://www.w3.org/Graphics/SVG/1.1/DTD/svg11.dtd\">\n<!-- Created with matplotlib (https://matplotlib.org/) -->\n<svg height=\"469.458125pt\" version=\"1.1\" viewBox=\"0 0 469.005 469.458125\" width=\"469.005pt\" xmlns=\"http://www.w3.org/2000/svg\" xmlns:xlink=\"http://www.w3.org/1999/xlink\">\n <metadata>\n  <rdf:RDF xmlns:cc=\"http://creativecommons.org/ns#\" xmlns:dc=\"http://purl.org/dc/elements/1.1/\" xmlns:rdf=\"http://www.w3.org/1999/02/22-rdf-syntax-ns#\">\n   <cc:Work>\n    <dc:type rdf:resource=\"http://purl.org/dc/dcmitype/StillImage\"/>\n    <dc:date>2021-02-13T15:22:01.067255</dc:date>\n    <dc:format>image/svg+xml</dc:format>\n    <dc:creator>\n     <cc:Agent>\n      <dc:title>Matplotlib v3.3.4, https://matplotlib.org/</dc:title>\n     </cc:Agent>\n    </dc:creator>\n   </cc:Work>\n  </rdf:RDF>\n </metadata>\n <defs>\n  <style type=\"text/css\">*{stroke-linecap:butt;stroke-linejoin:round;}</style>\n </defs>\n <g id=\"figure_1\">\n  <g id=\"patch_1\">\n   <path d=\"M 0 469.458125 \nL 469.005 469.458125 \nL 469.005 0 \nL 0 0 \nz\n\" style=\"fill:none;\"/>\n  </g>\n  <g id=\"axes_1\">\n   <g id=\"patch_2\">\n    <path d=\"M 26.925 458.758125 \nL 461.805 458.758125 \nL 461.805 23.878125 \nL 26.925 23.878125 \nz\n\" style=\"fill:#ffffff;\"/>\n   </g>\n   <g clip-path=\"url(#p5c21c7c28b)\">\n    <image height=\"435\" id=\"imagea707555ae8\" transform=\"scale(1 -1)translate(0 -435)\" width=\"435\" x=\"26.925\" xlink:href=\"data:image/png;base64,\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\" y=\"-23.758125\"/>\n   </g>\n   <g id=\"matplotlib.axis_1\">\n    <g id=\"xtick_1\">\n     <g id=\"line2d_1\">\n      <defs>\n       <path d=\"M 0 0 \nL 0 3.5 \n\" id=\"m1625f1bd43\" style=\"stroke:#000000;stroke-width:0.8;\"/>\n      </defs>\n      <g>\n       <use style=\"stroke:#000000;stroke-width:0.8;\" x=\"29.643\" xlink:href=\"#m1625f1bd43\" y=\"458.758125\"/>\n      </g>\n     </g>\n     <g id=\"line2d_2\">\n      <defs>\n       <path d=\"M 0 0 \nL 0 -3.5 \n\" id=\"mebf2dd2fff\" style=\"stroke:#000000;stroke-width:0.8;\"/>\n      </defs>\n      <g>\n       <use style=\"stroke:#000000;stroke-width:0.8;\" x=\"29.643\" xlink:href=\"#mebf2dd2fff\" y=\"23.878125\"/>\n      </g>\n     </g>\n     <g id=\"text_1\">\n      <!-- 0 -->\n      <g transform=\"translate(26.46175 14.798438)scale(0.1 -0.1)\">\n       <defs>\n        <path d=\"M 31.78125 66.40625 \nQ 24.171875 66.40625 20.328125 58.90625 \nQ 16.5 51.421875 16.5 36.375 \nQ 16.5 21.390625 20.328125 13.890625 \nQ 24.171875 6.390625 31.78125 6.390625 \nQ 39.453125 6.390625 43.28125 13.890625 \nQ 47.125 21.390625 47.125 36.375 \nQ 47.125 51.421875 43.28125 58.90625 \nQ 39.453125 66.40625 31.78125 66.40625 \nz\nM 31.78125 74.21875 \nQ 44.046875 74.21875 50.515625 64.515625 \nQ 56.984375 54.828125 56.984375 36.375 \nQ 56.984375 17.96875 50.515625 8.265625 \nQ 44.046875 -1.421875 31.78125 -1.421875 \nQ 19.53125 -1.421875 13.0625 8.265625 \nQ 6.59375 17.96875 6.59375 36.375 \nQ 6.59375 54.828125 13.0625 64.515625 \nQ 19.53125 74.21875 31.78125 74.21875 \nz\n\" id=\"DejaVuSans-48\"/>\n       </defs>\n       <use xlink:href=\"#DejaVuSans-48\"/>\n      </g>\n     </g>\n    </g>\n    <g id=\"xtick_2\">\n     <g id=\"line2d_3\">\n      <g>\n       <use style=\"stroke:#000000;stroke-width:0.8;\" x=\"84.003\" xlink:href=\"#m1625f1bd43\" y=\"458.758125\"/>\n      </g>\n     </g>\n     <g id=\"line2d_4\">\n      <g>\n       <use style=\"stroke:#000000;stroke-width:0.8;\" x=\"84.003\" xlink:href=\"#mebf2dd2fff\" y=\"23.878125\"/>\n      </g>\n     </g>\n     <g id=\"text_2\">\n      <!-- 10 -->\n      <g transform=\"translate(77.6405 14.798438)scale(0.1 -0.1)\">\n       <defs>\n        <path d=\"M 12.40625 8.296875 \nL 28.515625 8.296875 \nL 28.515625 63.921875 \nL 10.984375 60.40625 \nL 10.984375 69.390625 \nL 28.421875 72.90625 \nL 38.28125 72.90625 \nL 38.28125 8.296875 \nL 54.390625 8.296875 \nL 54.390625 0 \nL 12.40625 0 \nz\n\" id=\"DejaVuSans-49\"/>\n       </defs>\n       <use xlink:href=\"#DejaVuSans-49\"/>\n       <use x=\"63.623047\" xlink:href=\"#DejaVuSans-48\"/>\n      </g>\n     </g>\n    </g>\n    <g id=\"xtick_3\">\n     <g id=\"line2d_5\">\n      <g>\n       <use style=\"stroke:#000000;stroke-width:0.8;\" x=\"138.363\" xlink:href=\"#m1625f1bd43\" y=\"458.758125\"/>\n      </g>\n     </g>\n     <g id=\"line2d_6\">\n      <g>\n       <use style=\"stroke:#000000;stroke-width:0.8;\" x=\"138.363\" xlink:href=\"#mebf2dd2fff\" y=\"23.878125\"/>\n      </g>\n     </g>\n     <g id=\"text_3\">\n      <!-- 20 -->\n      <g transform=\"translate(132.0005 14.798438)scale(0.1 -0.1)\">\n       <defs>\n        <path d=\"M 19.1875 8.296875 \nL 53.609375 8.296875 \nL 53.609375 0 \nL 7.328125 0 \nL 7.328125 8.296875 \nQ 12.9375 14.109375 22.625 23.890625 \nQ 32.328125 33.6875 34.8125 36.53125 \nQ 39.546875 41.84375 41.421875 45.53125 \nQ 43.3125 49.21875 43.3125 52.78125 \nQ 43.3125 58.59375 39.234375 62.25 \nQ 35.15625 65.921875 28.609375 65.921875 \nQ 23.96875 65.921875 18.8125 64.3125 \nQ 13.671875 62.703125 7.8125 59.421875 \nL 7.8125 69.390625 \nQ 13.765625 71.78125 18.9375 73 \nQ 24.125 74.21875 28.421875 74.21875 \nQ 39.75 74.21875 46.484375 68.546875 \nQ 53.21875 62.890625 53.21875 53.421875 \nQ 53.21875 48.921875 51.53125 44.890625 \nQ 49.859375 40.875 45.40625 35.40625 \nQ 44.1875 33.984375 37.640625 27.21875 \nQ 31.109375 20.453125 19.1875 8.296875 \nz\n\" id=\"DejaVuSans-50\"/>\n       </defs>\n       <use xlink:href=\"#DejaVuSans-50\"/>\n       <use x=\"63.623047\" xlink:href=\"#DejaVuSans-48\"/>\n      </g>\n     </g>\n    </g>\n    <g id=\"xtick_4\">\n     <g id=\"line2d_7\">\n      <g>\n       <use style=\"stroke:#000000;stroke-width:0.8;\" x=\"192.723\" xlink:href=\"#m1625f1bd43\" y=\"458.758125\"/>\n      </g>\n     </g>\n     <g id=\"line2d_8\">\n      <g>\n       <use style=\"stroke:#000000;stroke-width:0.8;\" x=\"192.723\" xlink:href=\"#mebf2dd2fff\" y=\"23.878125\"/>\n      </g>\n     </g>\n     <g id=\"text_4\">\n      <!-- 30 -->\n      <g transform=\"translate(186.3605 14.798438)scale(0.1 -0.1)\">\n       <defs>\n        <path d=\"M 40.578125 39.3125 \nQ 47.65625 37.796875 51.625 33 \nQ 55.609375 28.21875 55.609375 21.1875 \nQ 55.609375 10.40625 48.1875 4.484375 \nQ 40.765625 -1.421875 27.09375 -1.421875 \nQ 22.515625 -1.421875 17.65625 -0.515625 \nQ 12.796875 0.390625 7.625 2.203125 \nL 7.625 11.71875 \nQ 11.71875 9.328125 16.59375 8.109375 \nQ 21.484375 6.890625 26.8125 6.890625 \nQ 36.078125 6.890625 40.9375 10.546875 \nQ 45.796875 14.203125 45.796875 21.1875 \nQ 45.796875 27.640625 41.28125 31.265625 \nQ 36.765625 34.90625 28.71875 34.90625 \nL 20.21875 34.90625 \nL 20.21875 43.015625 \nL 29.109375 43.015625 \nQ 36.375 43.015625 40.234375 45.921875 \nQ 44.09375 48.828125 44.09375 54.296875 \nQ 44.09375 59.90625 40.109375 62.90625 \nQ 36.140625 65.921875 28.71875 65.921875 \nQ 24.65625 65.921875 20.015625 65.03125 \nQ 15.375 64.15625 9.8125 62.3125 \nL 9.8125 71.09375 \nQ 15.4375 72.65625 20.34375 73.4375 \nQ 25.25 74.21875 29.59375 74.21875 \nQ 40.828125 74.21875 47.359375 69.109375 \nQ 53.90625 64.015625 53.90625 55.328125 \nQ 53.90625 49.265625 50.4375 45.09375 \nQ 46.96875 40.921875 40.578125 39.3125 \nz\n\" id=\"DejaVuSans-51\"/>\n       </defs>\n       <use xlink:href=\"#DejaVuSans-51\"/>\n       <use x=\"63.623047\" xlink:href=\"#DejaVuSans-48\"/>\n      </g>\n     </g>\n    </g>\n    <g id=\"xtick_5\">\n     <g id=\"line2d_9\">\n      <g>\n       <use style=\"stroke:#000000;stroke-width:0.8;\" x=\"247.083\" xlink:href=\"#m1625f1bd43\" y=\"458.758125\"/>\n      </g>\n     </g>\n     <g id=\"line2d_10\">\n      <g>\n       <use style=\"stroke:#000000;stroke-width:0.8;\" x=\"247.083\" xlink:href=\"#mebf2dd2fff\" y=\"23.878125\"/>\n      </g>\n     </g>\n     <g id=\"text_5\">\n      <!-- 40 -->\n      <g transform=\"translate(240.7205 14.798438)scale(0.1 -0.1)\">\n       <defs>\n        <path d=\"M 37.796875 64.3125 \nL 12.890625 25.390625 \nL 37.796875 25.390625 \nz\nM 35.203125 72.90625 \nL 47.609375 72.90625 \nL 47.609375 25.390625 \nL 58.015625 25.390625 \nL 58.015625 17.1875 \nL 47.609375 17.1875 \nL 47.609375 0 \nL 37.796875 0 \nL 37.796875 17.1875 \nL 4.890625 17.1875 \nL 4.890625 26.703125 \nz\n\" id=\"DejaVuSans-52\"/>\n       </defs>\n       <use xlink:href=\"#DejaVuSans-52\"/>\n       <use x=\"63.623047\" xlink:href=\"#DejaVuSans-48\"/>\n      </g>\n     </g>\n    </g>\n    <g id=\"xtick_6\">\n     <g id=\"line2d_11\">\n      <g>\n       <use style=\"stroke:#000000;stroke-width:0.8;\" x=\"301.443\" xlink:href=\"#m1625f1bd43\" y=\"458.758125\"/>\n      </g>\n     </g>\n     <g id=\"line2d_12\">\n      <g>\n       <use style=\"stroke:#000000;stroke-width:0.8;\" x=\"301.443\" xlink:href=\"#mebf2dd2fff\" y=\"23.878125\"/>\n      </g>\n     </g>\n     <g id=\"text_6\">\n      <!-- 50 -->\n      <g transform=\"translate(295.0805 14.798438)scale(0.1 -0.1)\">\n       <defs>\n        <path d=\"M 10.796875 72.90625 \nL 49.515625 72.90625 \nL 49.515625 64.59375 \nL 19.828125 64.59375 \nL 19.828125 46.734375 \nQ 21.96875 47.46875 24.109375 47.828125 \nQ 26.265625 48.1875 28.421875 48.1875 \nQ 40.625 48.1875 47.75 41.5 \nQ 54.890625 34.8125 54.890625 23.390625 \nQ 54.890625 11.625 47.5625 5.09375 \nQ 40.234375 -1.421875 26.90625 -1.421875 \nQ 22.3125 -1.421875 17.546875 -0.640625 \nQ 12.796875 0.140625 7.71875 1.703125 \nL 7.71875 11.625 \nQ 12.109375 9.234375 16.796875 8.0625 \nQ 21.484375 6.890625 26.703125 6.890625 \nQ 35.15625 6.890625 40.078125 11.328125 \nQ 45.015625 15.765625 45.015625 23.390625 \nQ 45.015625 31 40.078125 35.4375 \nQ 35.15625 39.890625 26.703125 39.890625 \nQ 22.75 39.890625 18.8125 39.015625 \nQ 14.890625 38.140625 10.796875 36.28125 \nz\n\" id=\"DejaVuSans-53\"/>\n       </defs>\n       <use xlink:href=\"#DejaVuSans-53\"/>\n       <use x=\"63.623047\" xlink:href=\"#DejaVuSans-48\"/>\n      </g>\n     </g>\n    </g>\n    <g id=\"xtick_7\">\n     <g id=\"line2d_13\">\n      <g>\n       <use style=\"stroke:#000000;stroke-width:0.8;\" x=\"355.803\" xlink:href=\"#m1625f1bd43\" y=\"458.758125\"/>\n      </g>\n     </g>\n     <g id=\"line2d_14\">\n      <g>\n       <use style=\"stroke:#000000;stroke-width:0.8;\" x=\"355.803\" xlink:href=\"#mebf2dd2fff\" y=\"23.878125\"/>\n      </g>\n     </g>\n     <g id=\"text_7\">\n      <!-- 60 -->\n      <g transform=\"translate(349.4405 14.798438)scale(0.1 -0.1)\">\n       <defs>\n        <path d=\"M 33.015625 40.375 \nQ 26.375 40.375 22.484375 35.828125 \nQ 18.609375 31.296875 18.609375 23.390625 \nQ 18.609375 15.53125 22.484375 10.953125 \nQ 26.375 6.390625 33.015625 6.390625 \nQ 39.65625 6.390625 43.53125 10.953125 \nQ 47.40625 15.53125 47.40625 23.390625 \nQ 47.40625 31.296875 43.53125 35.828125 \nQ 39.65625 40.375 33.015625 40.375 \nz\nM 52.59375 71.296875 \nL 52.59375 62.3125 \nQ 48.875 64.0625 45.09375 64.984375 \nQ 41.3125 65.921875 37.59375 65.921875 \nQ 27.828125 65.921875 22.671875 59.328125 \nQ 17.53125 52.734375 16.796875 39.40625 \nQ 19.671875 43.65625 24.015625 45.921875 \nQ 28.375 48.1875 33.59375 48.1875 \nQ 44.578125 48.1875 50.953125 41.515625 \nQ 57.328125 34.859375 57.328125 23.390625 \nQ 57.328125 12.15625 50.6875 5.359375 \nQ 44.046875 -1.421875 33.015625 -1.421875 \nQ 20.359375 -1.421875 13.671875 8.265625 \nQ 6.984375 17.96875 6.984375 36.375 \nQ 6.984375 53.65625 15.1875 63.9375 \nQ 23.390625 74.21875 37.203125 74.21875 \nQ 40.921875 74.21875 44.703125 73.484375 \nQ 48.484375 72.75 52.59375 71.296875 \nz\n\" id=\"DejaVuSans-54\"/>\n       </defs>\n       <use xlink:href=\"#DejaVuSans-54\"/>\n       <use x=\"63.623047\" xlink:href=\"#DejaVuSans-48\"/>\n      </g>\n     </g>\n    </g>\n    <g id=\"xtick_8\">\n     <g id=\"line2d_15\">\n      <g>\n       <use style=\"stroke:#000000;stroke-width:0.8;\" x=\"410.163\" xlink:href=\"#m1625f1bd43\" y=\"458.758125\"/>\n      </g>\n     </g>\n     <g id=\"line2d_16\">\n      <g>\n       <use style=\"stroke:#000000;stroke-width:0.8;\" x=\"410.163\" xlink:href=\"#mebf2dd2fff\" y=\"23.878125\"/>\n      </g>\n     </g>\n     <g id=\"text_8\">\n      <!-- 70 -->\n      <g transform=\"translate(403.8005 14.798438)scale(0.1 -0.1)\">\n       <defs>\n        <path d=\"M 8.203125 72.90625 \nL 55.078125 72.90625 \nL 55.078125 68.703125 \nL 28.609375 0 \nL 18.3125 0 \nL 43.21875 64.59375 \nL 8.203125 64.59375 \nz\n\" id=\"DejaVuSans-55\"/>\n       </defs>\n       <use xlink:href=\"#DejaVuSans-55\"/>\n       <use x=\"63.623047\" xlink:href=\"#DejaVuSans-48\"/>\n      </g>\n     </g>\n    </g>\n   </g>\n   <g id=\"matplotlib.axis_2\">\n    <g id=\"ytick_1\">\n     <g id=\"line2d_17\">\n      <defs>\n       <path d=\"M 0 0 \nL -3.5 0 \n\" id=\"m084fb71820\" style=\"stroke:#000000;stroke-width:0.8;\"/>\n      </defs>\n      <g>\n       <use style=\"stroke:#000000;stroke-width:0.8;\" x=\"26.925\" xlink:href=\"#m084fb71820\" y=\"26.596125\"/>\n      </g>\n     </g>\n     <g id=\"text_9\">\n      <!-- 0 -->\n      <g transform=\"translate(13.5625 30.395344)scale(0.1 -0.1)\">\n       <use xlink:href=\"#DejaVuSans-48\"/>\n      </g>\n     </g>\n    </g>\n    <g id=\"ytick_2\">\n     <g id=\"line2d_18\">\n      <g>\n       <use style=\"stroke:#000000;stroke-width:0.8;\" x=\"26.925\" xlink:href=\"#m084fb71820\" y=\"80.956125\"/>\n      </g>\n     </g>\n     <g id=\"text_10\">\n      <!-- 10 -->\n      <g transform=\"translate(7.2 84.755344)scale(0.1 -0.1)\">\n       <use xlink:href=\"#DejaVuSans-49\"/>\n       <use x=\"63.623047\" xlink:href=\"#DejaVuSans-48\"/>\n      </g>\n     </g>\n    </g>\n    <g id=\"ytick_3\">\n     <g id=\"line2d_19\">\n      <g>\n       <use style=\"stroke:#000000;stroke-width:0.8;\" x=\"26.925\" xlink:href=\"#m084fb71820\" y=\"135.316125\"/>\n      </g>\n     </g>\n     <g id=\"text_11\">\n      <!-- 20 -->\n      <g transform=\"translate(7.2 139.115344)scale(0.1 -0.1)\">\n       <use xlink:href=\"#DejaVuSans-50\"/>\n       <use x=\"63.623047\" xlink:href=\"#DejaVuSans-48\"/>\n      </g>\n     </g>\n    </g>\n    <g id=\"ytick_4\">\n     <g id=\"line2d_20\">\n      <g>\n       <use style=\"stroke:#000000;stroke-width:0.8;\" x=\"26.925\" xlink:href=\"#m084fb71820\" y=\"189.676125\"/>\n      </g>\n     </g>\n     <g id=\"text_12\">\n      <!-- 30 -->\n      <g transform=\"translate(7.2 193.475344)scale(0.1 -0.1)\">\n       <use xlink:href=\"#DejaVuSans-51\"/>\n       <use x=\"63.623047\" xlink:href=\"#DejaVuSans-48\"/>\n      </g>\n     </g>\n    </g>\n    <g id=\"ytick_5\">\n     <g id=\"line2d_21\">\n      <g>\n       <use style=\"stroke:#000000;stroke-width:0.8;\" x=\"26.925\" xlink:href=\"#m084fb71820\" y=\"244.036125\"/>\n      </g>\n     </g>\n     <g id=\"text_13\">\n      <!-- 40 -->\n      <g transform=\"translate(7.2 247.835344)scale(0.1 -0.1)\">\n       <use xlink:href=\"#DejaVuSans-52\"/>\n       <use x=\"63.623047\" xlink:href=\"#DejaVuSans-48\"/>\n      </g>\n     </g>\n    </g>\n    <g id=\"ytick_6\">\n     <g id=\"line2d_22\">\n      <g>\n       <use style=\"stroke:#000000;stroke-width:0.8;\" x=\"26.925\" xlink:href=\"#m084fb71820\" y=\"298.396125\"/>\n      </g>\n     </g>\n     <g id=\"text_14\">\n      <!-- 50 -->\n      <g transform=\"translate(7.2 302.195344)scale(0.1 -0.1)\">\n       <use xlink:href=\"#DejaVuSans-53\"/>\n       <use x=\"63.623047\" xlink:href=\"#DejaVuSans-48\"/>\n      </g>\n     </g>\n    </g>\n    <g id=\"ytick_7\">\n     <g id=\"line2d_23\">\n      <g>\n       <use style=\"stroke:#000000;stroke-width:0.8;\" x=\"26.925\" xlink:href=\"#m084fb71820\" y=\"352.756125\"/>\n      </g>\n     </g>\n     <g id=\"text_15\">\n      <!-- 60 -->\n      <g transform=\"translate(7.2 356.555344)scale(0.1 -0.1)\">\n       <use xlink:href=\"#DejaVuSans-54\"/>\n       <use x=\"63.623047\" xlink:href=\"#DejaVuSans-48\"/>\n      </g>\n     </g>\n    </g>\n    <g id=\"ytick_8\">\n     <g id=\"line2d_24\">\n      <g>\n       <use style=\"stroke:#000000;stroke-width:0.8;\" x=\"26.925\" xlink:href=\"#m084fb71820\" y=\"407.116125\"/>\n      </g>\n     </g>\n     <g id=\"text_16\">\n      <!-- 70 -->\n      <g transform=\"translate(7.2 410.915344)scale(0.1 -0.1)\">\n       <use xlink:href=\"#DejaVuSans-55\"/>\n       <use x=\"63.623047\" xlink:href=\"#DejaVuSans-48\"/>\n      </g>\n     </g>\n    </g>\n   </g>\n   <g id=\"patch_3\">\n    <path d=\"M 26.925 458.758125 \nL 26.925 23.878125 \n\" style=\"fill:none;stroke:#000000;stroke-linecap:square;stroke-linejoin:miter;stroke-width:0.8;\"/>\n   </g>\n   <g id=\"patch_4\">\n    <path d=\"M 461.805 458.758125 \nL 461.805 23.878125 \n\" style=\"fill:none;stroke:#000000;stroke-linecap:square;stroke-linejoin:miter;stroke-width:0.8;\"/>\n   </g>\n   <g id=\"patch_5\">\n    <path d=\"M 26.925 458.758125 \nL 461.805 458.758125 \n\" style=\"fill:none;stroke:#000000;stroke-linecap:square;stroke-linejoin:miter;stroke-width:0.8;\"/>\n   </g>\n   <g id=\"patch_6\">\n    <path d=\"M 26.925 23.878125 \nL 461.805 23.878125 \n\" style=\"fill:none;stroke:#000000;stroke-linecap:square;stroke-linejoin:miter;stroke-width:0.8;\"/>\n   </g>\n  </g>\n </g>\n <defs>\n  <clipPath id=\"p5c21c7c28b\">\n   <rect height=\"434.88\" width=\"434.88\" x=\"26.925\" y=\"23.878125\"/>\n  </clipPath>\n </defs>\n</svg>\n",
      "image/png": "[encoded data removed]"
     },
     "metadata": {
      "needs_background": "light"
     }
    }
   ],
   "source": [
    "adj_combined = adj_curated.copy()\n",
    "for labels0 in train_noisy[\"labels\"]:\n",
    "    labels0 = labels0.split(\",\")\n",
    "    if len(labels0) > 1:\n",
    "        for a, b in combinations(labels0, 2):\n",
    "            ida, idb = label2index[a], label2index[b]\n",
    "            adj_combined[ida, idb] += 1\n",
    "            adj_combined[idb, ida] += 1\n",
    "adj_combined_b = to_binary(adj_combined, 0.1)\n",
    "fig = plt.figure(figsize=(8,8))\n",
    "plt.matshow(adj_combined_b, fignum=0)\n",
    "print(adj_combined_b.sum())\n",
    "plt.show()"
   ]
  },
  {
   "cell_type": "code",
   "execution_count": 13,
   "metadata": {},
   "outputs": [
    {
     "output_type": "execute_result",
     "data": {
      "text/plain": [
       "Graph(num_nodes=80, num_edges=253,\n",
       "      ndata_schemes={}\n",
       "      edata_schemes={})"
      ]
     },
     "metadata": {},
     "execution_count": 13
    }
   ],
   "source": [
    "dgl_combined_b = dgl.from_scipy(csr_matrix(adj_combined_b))\n",
    "dgl_combined_b = dgl_combined_b.add_self_loop()\n",
    "with open(\"../input/combined_0.1_graph.pkl\", \"wb\") as f:\n",
    "    pickle.dump([dgl_combined_b, np.arange(80)], f)\n",
    "tmp_g, tmp_indices = pickle.load(open(\"../input/combined_0.1_graph.pkl\", \"rb\"))\n",
    "tmp_g"
   ]
  },
  {
   "cell_type": "code",
   "execution_count": 14,
   "metadata": {},
   "outputs": [
    {
     "output_type": "stream",
     "name": "stdout",
     "text": [
      "178.0\n"
     ]
    },
    {
     "output_type": "display_data",
     "data": {
      "text/plain": "<Figure size 576x576 with 1 Axes>",
      "image/svg+xml": "<?xml version=\"1.0\" encoding=\"utf-8\" standalone=\"no\"?>\n<!DOCTYPE svg PUBLIC \"-//W3C//DTD SVG 1.1//EN\"\n  \"http://www.w3.org/Graphics/SVG/1.1/DTD/svg11.dtd\">\n<!-- Created with matplotlib (https://matplotlib.org/) -->\n<svg height=\"469.458125pt\" version=\"1.1\" viewBox=\"0 0 469.005 469.458125\" width=\"469.005pt\" xmlns=\"http://www.w3.org/2000/svg\" xmlns:xlink=\"http://www.w3.org/1999/xlink\">\n <metadata>\n  <rdf:RDF xmlns:cc=\"http://creativecommons.org/ns#\" xmlns:dc=\"http://purl.org/dc/elements/1.1/\" xmlns:rdf=\"http://www.w3.org/1999/02/22-rdf-syntax-ns#\">\n   <cc:Work>\n    <dc:type rdf:resource=\"http://purl.org/dc/dcmitype/StillImage\"/>\n    <dc:date>2021-02-13T15:22:01.533514</dc:date>\n    <dc:format>image/svg+xml</dc:format>\n    <dc:creator>\n     <cc:Agent>\n      <dc:title>Matplotlib v3.3.4, https://matplotlib.org/</dc:title>\n     </cc:Agent>\n    </dc:creator>\n   </cc:Work>\n  </rdf:RDF>\n </metadata>\n <defs>\n  <style type=\"text/css\">*{stroke-linecap:butt;stroke-linejoin:round;}</style>\n </defs>\n <g id=\"figure_1\">\n  <g id=\"patch_1\">\n   <path d=\"M 0 469.458125 \nL 469.005 469.458125 \nL 469.005 0 \nL 0 0 \nz\n\" style=\"fill:none;\"/>\n  </g>\n  <g id=\"axes_1\">\n   <g id=\"patch_2\">\n    <path d=\"M 26.925 458.758125 \nL 461.805 458.758125 \nL 461.805 23.878125 \nL 26.925 23.878125 \nz\n\" style=\"fill:#ffffff;\"/>\n   </g>\n   <g clip-path=\"url(#p990f4ab80b)\">\n    <image height=\"435\" id=\"image3917554dd0\" transform=\"scale(1 -1)translate(0 -435)\" width=\"435\" x=\"26.925\" xlink:href=\"data:image/png;base64,\niVBORw0KGgoAAAANSUhEUgAAAbMAAAGzCAYAAACl7fmHAAAJyElEQVR4nO3d0W3bSBRAUXHhKlJFihDgBtSsu3AVbkP7sVgssKET0yLFueQ5n4bgDEnHFwM/DKfrdLtfBvT28f7L115//Hz6Os5i7n5fLsvueemZrXG9zzTqvT3buka93iVGvYZH1/XXeksBgH2IGQB5YgZAnpgBkDeNOgACAF9lZwZAnpgBkCdmAOSJGQB5YgZA3sveC/jMqEeuHJXjrP5RWu8Iaz3buka93iWOeg12ZgDkiRkAeWIGQJ6YAZDnOCvgFJYM/dQGhLAzA+AAxAyAPDEDIE/MAMgTMwDyTDMCkGdnBkCemAGQJ2YA5IkZAHliBkCemAGQJ2YA5IkZAHliBkCemAGQJ2YA5IkZAHliBkCemAGQJ2YA5IkZAHliBkCemAGQJ2YA5IkZAHliBkCemAGQJ2YA5IkZAHliBkCemAGQ97L3Aj7z9vH+y9def/x8+jrOYu5+Xy7L7nnpma1xvc806r0927pGvd4jWHJv5z5rZwZAnpgBkCdmAOSJGQB503W63fdeBAA8ws4MgDwxAyBPzADIEzMA8sQMgLxhj7MCfq92JNfZfPV4Js9xHXZmAOSJGQB5YgZAnpgBkLfoOCvvCGItnjmwJjszAPLEDIA8MQMgT8wAyBMzAPK8nBNWZEoT9mFnBkCemAGQJ2YA5IkZAHmne5+ZP9CzpWf+LHkP1tie+bvG7zU7MwAOQMwAyBMzAPLEDIA8MQMgz3FWAOTZmQGQJ2YA5IkZAHliBkDe6Y6zgqNwnNUxrPEcHWdlZwbAAYgZAHliBkCemAGQ5wQQAPLszADIEzMA8sQMgDwxAyBPzADIG/Y4K8ezPNfZjtSpHQU16r21rp5R782Sdc191s4MgDwxAyBPzADIEzMA8hxnBZxCbejnqLZ6DnZmAOSJGQB5YgZAnpgBkCdmAOSZZgQgz84MgDwxAyBPzADIEzMA8oZ9nxnAXhx9tR3HWQHAJ8QMgDwxAyBPzADIEzMA8oY9zmpu4sUk0XbWmDAqPbPatNqo93bUdW3lCNc76jUsWdfcZ+3MAMgTMwDyxAyAPDEDIG/YARAA+Co7MwDyxAyAPDEDIE/MAMgTMwDyxAyAPDEDIE/MAMgTMwDyxAyAPDEDIE/MAMgTMwDyxAyAPDEDIO9l7wUA/3n7eJ/9+uuPn09dx/+Nui74l50ZAHliBkCemAGQJ2YA5IkZAHmmGWEgI0wHzk0ujrAu+B07MwDyxAyAPDEDIE/MAMg77ACI43fge/wfocjODIA8MQMgT8wAyBMzAPLEDIC8YacZHz1Sx0TWMmtMf5aOQapNu5bu7Qi2ul9HeA6jXsOSdc191s4MgDwxAyBPzADIEzMA8qbrdLvvvQjgH7XBlEed7XrZjp0ZAHliBkCemAGQJ2YA5IkZAHnDHmcFZ3TkKb5Rj1HiGOzMAMgTMwDyxAyAPDEDIM8ACPAUhj3Ykp0ZAHliBkCemAGQJ2YA5IkZAHliBkCemAGQJ2YA5IkZAHliBkCe46wYnvdgAX9iZwZAnpgBkCdmAOSJGQB5BkAYnmEPir46uDT3uc8+++i/dWR2ZgDkiRkAeWIGQJ6YAZAnZgDkTdfpdt97EXNM5zzX2Saq1rhexn3mW61r1OtdYtRrWLKuuc/amQGQJ2YA5IkZAHliBkDesAMgLGOggS1t9fPl55a12JkBkCdmAOSJGQB5YgZAnpgBkGeaEYA8OzMA8sQMgDwxAyBPzADIe5n7oiNmACixMwMgT8wAyBMzAPLEDIA8MQMgb3aa0dQiwL7mpsr9bv6cnRkAeWIGQJ6YAZAnZgDkzQ6AALAvwx7L2JkBkCdmAOSJGQB5YgZAnpgBkCdmAOSJGQB5YgZAnpgBkCdmAOSJGQB5YgZAnpgBkCdmAOSJGQB5w77P7O3j/Zeveb/Pdubu9+Wy7J57ZtsZ9d6ebV2jXu8So17DknXNfdbODIA8MQMgT8wAyBMzAPLEDIC86Trd7nsvgnlrTBgCnIGdGQB5YgZAnpgBkCdmAOQNe5wVxxj0MMQCPIOdGQB5YgZAnpgBkCdmAOSJGQB5phnZlKlF4BnszADIEzMA8sQMgDwxAyDPAAgczNwRYgZxODo7MwDyxAyAPDEDIE/MAMgzAAIHY9iDM7IzAyBPzADIEzMA8sQMgDwxAyBv0TTjVsfkOH4H4M/mfldeLn5fXi52ZgAcgJgBkCdmAOSJGQB503W63fdeBKzBH8fhvOzMAMgTMwDyxAyAPDEDIE/MAMgb9uWcjrh6riNMAi5Za+16R/3/cLZ1jXq9S4x6DUvWNfdZOzMA8sQMgDwxAyBPzADIc5wVAHl2ZgDkiRkAeWIGQJ6YAZAnZgDkiRkAeWIGQJ6YAZAnZgDkiRkAed5nxmpKz8z7zNZxtnWNer1LjHoN3mcGwOmJGQB5YgZAnpgBkCdmAOQ9/HLO2lTYEntP/Rz53gKsyc4MgDwxAyBPzADIEzMA8h4eAAGAvdmZAZAnZgDkiRkAeWIGQN6w7zODM3LqC3yPnRkAeWIGQJ6YAZAnZgDkiRkAeaYZYSCmFuF77MwAyBMzAPLEDIA8MQMg7+EBkCMfvzN3ba6r52zXC2dkZwZAnpgBkCdmAOSJGQB5YgZA3nSdbve9F/FVR56cBOD77MwAyBMzAPLEDIA8MQMgL/U+M4MeAMyxMwMgT8wAyBMzAPLEDIA8MQMgT8wAyBMzAPLEDIA8MQMgT8wAyBMzAPLEDIA8MQMgT8wAyBMzAPLEDIA8MQMgT8wAyBMzAPLEDIA8MQMg7+XRb/D28T779dcfPx/91qe31b2d+76eF1BmZwZAnpgBkCdmAOSJGQB503W63fdeBAA8ws4MgDwxAyBPzADIEzMA8sQMgLyHj7MC4PscCbgOOzMA8sQMgDwxAyBPzADIMwACrMpAwzLuyzrszADIEzMA8sQMgDwxAyBPzADIM80IrMp0HnuwMwMgT8wAyBMzAPLEDIA8AyCDmDsCyB/SAb7GzgyAPDEDIE/MAMgTMwDyxAyAPNOMg9h7cnGNFyqWJjJrL5Ac9d6ebV2jXu8So17DknXNfdbODIA8MQMgT8wAyBMzAPKm63S7f/XDo/7hkB4/S7BcbXDpmezMAMgTMwDyxAyAPDEDIG/RAAgAjMjODIA8MQMgT8wAyBMzAPLEDIA8MQMgT8wAyBMzAPLEDIA8MQMg72XvBYxs73dubfXuor2vC2BtdmYA5IkZAHliBkCemAGQJ2YA5A3xck7TdefjmcNyW004H4GdGQB5YgZAnpgBkCdmAOQNMQACR+aP9rA9OzMA8sQMgDwxAyBPzADIEzMA8rycEzZmahG2Z2cGQJ6YAZAnZgDkiRkAeX8DymxLbvv6kngAAAAASUVORK5CYII=\" y=\"-23.758125\"/>\n   </g>\n   <g id=\"matplotlib.axis_1\">\n    <g id=\"xtick_1\">\n     <g id=\"line2d_1\">\n      <defs>\n       <path d=\"M 0 0 \nL 0 3.5 \n\" id=\"m5964718967\" style=\"stroke:#000000;stroke-width:0.8;\"/>\n      </defs>\n      <g>\n       <use style=\"stroke:#000000;stroke-width:0.8;\" x=\"29.643\" xlink:href=\"#m5964718967\" y=\"458.758125\"/>\n      </g>\n     </g>\n     <g id=\"line2d_2\">\n      <defs>\n       <path d=\"M 0 0 \nL 0 -3.5 \n\" id=\"mfe51cbd45e\" style=\"stroke:#000000;stroke-width:0.8;\"/>\n      </defs>\n      <g>\n       <use style=\"stroke:#000000;stroke-width:0.8;\" x=\"29.643\" xlink:href=\"#mfe51cbd45e\" y=\"23.878125\"/>\n      </g>\n     </g>\n     <g id=\"text_1\">\n      <!-- 0 -->\n      <g transform=\"translate(26.46175 14.798438)scale(0.1 -0.1)\">\n       <defs>\n        <path d=\"M 31.78125 66.40625 \nQ 24.171875 66.40625 20.328125 58.90625 \nQ 16.5 51.421875 16.5 36.375 \nQ 16.5 21.390625 20.328125 13.890625 \nQ 24.171875 6.390625 31.78125 6.390625 \nQ 39.453125 6.390625 43.28125 13.890625 \nQ 47.125 21.390625 47.125 36.375 \nQ 47.125 51.421875 43.28125 58.90625 \nQ 39.453125 66.40625 31.78125 66.40625 \nz\nM 31.78125 74.21875 \nQ 44.046875 74.21875 50.515625 64.515625 \nQ 56.984375 54.828125 56.984375 36.375 \nQ 56.984375 17.96875 50.515625 8.265625 \nQ 44.046875 -1.421875 31.78125 -1.421875 \nQ 19.53125 -1.421875 13.0625 8.265625 \nQ 6.59375 17.96875 6.59375 36.375 \nQ 6.59375 54.828125 13.0625 64.515625 \nQ 19.53125 74.21875 31.78125 74.21875 \nz\n\" id=\"DejaVuSans-48\"/>\n       </defs>\n       <use xlink:href=\"#DejaVuSans-48\"/>\n      </g>\n     </g>\n    </g>\n    <g id=\"xtick_2\">\n     <g id=\"line2d_3\">\n      <g>\n       <use style=\"stroke:#000000;stroke-width:0.8;\" x=\"84.003\" xlink:href=\"#m5964718967\" y=\"458.758125\"/>\n      </g>\n     </g>\n     <g id=\"line2d_4\">\n      <g>\n       <use style=\"stroke:#000000;stroke-width:0.8;\" x=\"84.003\" xlink:href=\"#mfe51cbd45e\" y=\"23.878125\"/>\n      </g>\n     </g>\n     <g id=\"text_2\">\n      <!-- 10 -->\n      <g transform=\"translate(77.6405 14.798438)scale(0.1 -0.1)\">\n       <defs>\n        <path d=\"M 12.40625 8.296875 \nL 28.515625 8.296875 \nL 28.515625 63.921875 \nL 10.984375 60.40625 \nL 10.984375 69.390625 \nL 28.421875 72.90625 \nL 38.28125 72.90625 \nL 38.28125 8.296875 \nL 54.390625 8.296875 \nL 54.390625 0 \nL 12.40625 0 \nz\n\" id=\"DejaVuSans-49\"/>\n       </defs>\n       <use xlink:href=\"#DejaVuSans-49\"/>\n       <use x=\"63.623047\" xlink:href=\"#DejaVuSans-48\"/>\n      </g>\n     </g>\n    </g>\n    <g id=\"xtick_3\">\n     <g id=\"line2d_5\">\n      <g>\n       <use style=\"stroke:#000000;stroke-width:0.8;\" x=\"138.363\" xlink:href=\"#m5964718967\" y=\"458.758125\"/>\n      </g>\n     </g>\n     <g id=\"line2d_6\">\n      <g>\n       <use style=\"stroke:#000000;stroke-width:0.8;\" x=\"138.363\" xlink:href=\"#mfe51cbd45e\" y=\"23.878125\"/>\n      </g>\n     </g>\n     <g id=\"text_3\">\n      <!-- 20 -->\n      <g transform=\"translate(132.0005 14.798438)scale(0.1 -0.1)\">\n       <defs>\n        <path d=\"M 19.1875 8.296875 \nL 53.609375 8.296875 \nL 53.609375 0 \nL 7.328125 0 \nL 7.328125 8.296875 \nQ 12.9375 14.109375 22.625 23.890625 \nQ 32.328125 33.6875 34.8125 36.53125 \nQ 39.546875 41.84375 41.421875 45.53125 \nQ 43.3125 49.21875 43.3125 52.78125 \nQ 43.3125 58.59375 39.234375 62.25 \nQ 35.15625 65.921875 28.609375 65.921875 \nQ 23.96875 65.921875 18.8125 64.3125 \nQ 13.671875 62.703125 7.8125 59.421875 \nL 7.8125 69.390625 \nQ 13.765625 71.78125 18.9375 73 \nQ 24.125 74.21875 28.421875 74.21875 \nQ 39.75 74.21875 46.484375 68.546875 \nQ 53.21875 62.890625 53.21875 53.421875 \nQ 53.21875 48.921875 51.53125 44.890625 \nQ 49.859375 40.875 45.40625 35.40625 \nQ 44.1875 33.984375 37.640625 27.21875 \nQ 31.109375 20.453125 19.1875 8.296875 \nz\n\" id=\"DejaVuSans-50\"/>\n       </defs>\n       <use xlink:href=\"#DejaVuSans-50\"/>\n       <use x=\"63.623047\" xlink:href=\"#DejaVuSans-48\"/>\n      </g>\n     </g>\n    </g>\n    <g id=\"xtick_4\">\n     <g id=\"line2d_7\">\n      <g>\n       <use style=\"stroke:#000000;stroke-width:0.8;\" x=\"192.723\" xlink:href=\"#m5964718967\" y=\"458.758125\"/>\n      </g>\n     </g>\n     <g id=\"line2d_8\">\n      <g>\n       <use style=\"stroke:#000000;stroke-width:0.8;\" x=\"192.723\" xlink:href=\"#mfe51cbd45e\" y=\"23.878125\"/>\n      </g>\n     </g>\n     <g id=\"text_4\">\n      <!-- 30 -->\n      <g transform=\"translate(186.3605 14.798438)scale(0.1 -0.1)\">\n       <defs>\n        <path d=\"M 40.578125 39.3125 \nQ 47.65625 37.796875 51.625 33 \nQ 55.609375 28.21875 55.609375 21.1875 \nQ 55.609375 10.40625 48.1875 4.484375 \nQ 40.765625 -1.421875 27.09375 -1.421875 \nQ 22.515625 -1.421875 17.65625 -0.515625 \nQ 12.796875 0.390625 7.625 2.203125 \nL 7.625 11.71875 \nQ 11.71875 9.328125 16.59375 8.109375 \nQ 21.484375 6.890625 26.8125 6.890625 \nQ 36.078125 6.890625 40.9375 10.546875 \nQ 45.796875 14.203125 45.796875 21.1875 \nQ 45.796875 27.640625 41.28125 31.265625 \nQ 36.765625 34.90625 28.71875 34.90625 \nL 20.21875 34.90625 \nL 20.21875 43.015625 \nL 29.109375 43.015625 \nQ 36.375 43.015625 40.234375 45.921875 \nQ 44.09375 48.828125 44.09375 54.296875 \nQ 44.09375 59.90625 40.109375 62.90625 \nQ 36.140625 65.921875 28.71875 65.921875 \nQ 24.65625 65.921875 20.015625 65.03125 \nQ 15.375 64.15625 9.8125 62.3125 \nL 9.8125 71.09375 \nQ 15.4375 72.65625 20.34375 73.4375 \nQ 25.25 74.21875 29.59375 74.21875 \nQ 40.828125 74.21875 47.359375 69.109375 \nQ 53.90625 64.015625 53.90625 55.328125 \nQ 53.90625 49.265625 50.4375 45.09375 \nQ 46.96875 40.921875 40.578125 39.3125 \nz\n\" id=\"DejaVuSans-51\"/>\n       </defs>\n       <use xlink:href=\"#DejaVuSans-51\"/>\n       <use x=\"63.623047\" xlink:href=\"#DejaVuSans-48\"/>\n      </g>\n     </g>\n    </g>\n    <g id=\"xtick_5\">\n     <g id=\"line2d_9\">\n      <g>\n       <use style=\"stroke:#000000;stroke-width:0.8;\" x=\"247.083\" xlink:href=\"#m5964718967\" y=\"458.758125\"/>\n      </g>\n     </g>\n     <g id=\"line2d_10\">\n      <g>\n       <use style=\"stroke:#000000;stroke-width:0.8;\" x=\"247.083\" xlink:href=\"#mfe51cbd45e\" y=\"23.878125\"/>\n      </g>\n     </g>\n     <g id=\"text_5\">\n      <!-- 40 -->\n      <g transform=\"translate(240.7205 14.798438)scale(0.1 -0.1)\">\n       <defs>\n        <path d=\"M 37.796875 64.3125 \nL 12.890625 25.390625 \nL 37.796875 25.390625 \nz\nM 35.203125 72.90625 \nL 47.609375 72.90625 \nL 47.609375 25.390625 \nL 58.015625 25.390625 \nL 58.015625 17.1875 \nL 47.609375 17.1875 \nL 47.609375 0 \nL 37.796875 0 \nL 37.796875 17.1875 \nL 4.890625 17.1875 \nL 4.890625 26.703125 \nz\n\" id=\"DejaVuSans-52\"/>\n       </defs>\n       <use xlink:href=\"#DejaVuSans-52\"/>\n       <use x=\"63.623047\" xlink:href=\"#DejaVuSans-48\"/>\n      </g>\n     </g>\n    </g>\n    <g id=\"xtick_6\">\n     <g id=\"line2d_11\">\n      <g>\n       <use style=\"stroke:#000000;stroke-width:0.8;\" x=\"301.443\" xlink:href=\"#m5964718967\" y=\"458.758125\"/>\n      </g>\n     </g>\n     <g id=\"line2d_12\">\n      <g>\n       <use style=\"stroke:#000000;stroke-width:0.8;\" x=\"301.443\" xlink:href=\"#mfe51cbd45e\" y=\"23.878125\"/>\n      </g>\n     </g>\n     <g id=\"text_6\">\n      <!-- 50 -->\n      <g transform=\"translate(295.0805 14.798438)scale(0.1 -0.1)\">\n       <defs>\n        <path d=\"M 10.796875 72.90625 \nL 49.515625 72.90625 \nL 49.515625 64.59375 \nL 19.828125 64.59375 \nL 19.828125 46.734375 \nQ 21.96875 47.46875 24.109375 47.828125 \nQ 26.265625 48.1875 28.421875 48.1875 \nQ 40.625 48.1875 47.75 41.5 \nQ 54.890625 34.8125 54.890625 23.390625 \nQ 54.890625 11.625 47.5625 5.09375 \nQ 40.234375 -1.421875 26.90625 -1.421875 \nQ 22.3125 -1.421875 17.546875 -0.640625 \nQ 12.796875 0.140625 7.71875 1.703125 \nL 7.71875 11.625 \nQ 12.109375 9.234375 16.796875 8.0625 \nQ 21.484375 6.890625 26.703125 6.890625 \nQ 35.15625 6.890625 40.078125 11.328125 \nQ 45.015625 15.765625 45.015625 23.390625 \nQ 45.015625 31 40.078125 35.4375 \nQ 35.15625 39.890625 26.703125 39.890625 \nQ 22.75 39.890625 18.8125 39.015625 \nQ 14.890625 38.140625 10.796875 36.28125 \nz\n\" id=\"DejaVuSans-53\"/>\n       </defs>\n       <use xlink:href=\"#DejaVuSans-53\"/>\n       <use x=\"63.623047\" xlink:href=\"#DejaVuSans-48\"/>\n      </g>\n     </g>\n    </g>\n    <g id=\"xtick_7\">\n     <g id=\"line2d_13\">\n      <g>\n       <use style=\"stroke:#000000;stroke-width:0.8;\" x=\"355.803\" xlink:href=\"#m5964718967\" y=\"458.758125\"/>\n      </g>\n     </g>\n     <g id=\"line2d_14\">\n      <g>\n       <use style=\"stroke:#000000;stroke-width:0.8;\" x=\"355.803\" xlink:href=\"#mfe51cbd45e\" y=\"23.878125\"/>\n      </g>\n     </g>\n     <g id=\"text_7\">\n      <!-- 60 -->\n      <g transform=\"translate(349.4405 14.798438)scale(0.1 -0.1)\">\n       <defs>\n        <path d=\"M 33.015625 40.375 \nQ 26.375 40.375 22.484375 35.828125 \nQ 18.609375 31.296875 18.609375 23.390625 \nQ 18.609375 15.53125 22.484375 10.953125 \nQ 26.375 6.390625 33.015625 6.390625 \nQ 39.65625 6.390625 43.53125 10.953125 \nQ 47.40625 15.53125 47.40625 23.390625 \nQ 47.40625 31.296875 43.53125 35.828125 \nQ 39.65625 40.375 33.015625 40.375 \nz\nM 52.59375 71.296875 \nL 52.59375 62.3125 \nQ 48.875 64.0625 45.09375 64.984375 \nQ 41.3125 65.921875 37.59375 65.921875 \nQ 27.828125 65.921875 22.671875 59.328125 \nQ 17.53125 52.734375 16.796875 39.40625 \nQ 19.671875 43.65625 24.015625 45.921875 \nQ 28.375 48.1875 33.59375 48.1875 \nQ 44.578125 48.1875 50.953125 41.515625 \nQ 57.328125 34.859375 57.328125 23.390625 \nQ 57.328125 12.15625 50.6875 5.359375 \nQ 44.046875 -1.421875 33.015625 -1.421875 \nQ 20.359375 -1.421875 13.671875 8.265625 \nQ 6.984375 17.96875 6.984375 36.375 \nQ 6.984375 53.65625 15.1875 63.9375 \nQ 23.390625 74.21875 37.203125 74.21875 \nQ 40.921875 74.21875 44.703125 73.484375 \nQ 48.484375 72.75 52.59375 71.296875 \nz\n\" id=\"DejaVuSans-54\"/>\n       </defs>\n       <use xlink:href=\"#DejaVuSans-54\"/>\n       <use x=\"63.623047\" xlink:href=\"#DejaVuSans-48\"/>\n      </g>\n     </g>\n    </g>\n    <g id=\"xtick_8\">\n     <g id=\"line2d_15\">\n      <g>\n       <use style=\"stroke:#000000;stroke-width:0.8;\" x=\"410.163\" xlink:href=\"#m5964718967\" y=\"458.758125\"/>\n      </g>\n     </g>\n     <g id=\"line2d_16\">\n      <g>\n       <use style=\"stroke:#000000;stroke-width:0.8;\" x=\"410.163\" xlink:href=\"#mfe51cbd45e\" y=\"23.878125\"/>\n      </g>\n     </g>\n     <g id=\"text_8\">\n      <!-- 70 -->\n      <g transform=\"translate(403.8005 14.798438)scale(0.1 -0.1)\">\n       <defs>\n        <path d=\"M 8.203125 72.90625 \nL 55.078125 72.90625 \nL 55.078125 68.703125 \nL 28.609375 0 \nL 18.3125 0 \nL 43.21875 64.59375 \nL 8.203125 64.59375 \nz\n\" id=\"DejaVuSans-55\"/>\n       </defs>\n       <use xlink:href=\"#DejaVuSans-55\"/>\n       <use x=\"63.623047\" xlink:href=\"#DejaVuSans-48\"/>\n      </g>\n     </g>\n    </g>\n   </g>\n   <g id=\"matplotlib.axis_2\">\n    <g id=\"ytick_1\">\n     <g id=\"line2d_17\">\n      <defs>\n       <path d=\"M 0 0 \nL -3.5 0 \n\" id=\"m2e69d4bb2e\" style=\"stroke:#000000;stroke-width:0.8;\"/>\n      </defs>\n      <g>\n       <use style=\"stroke:#000000;stroke-width:0.8;\" x=\"26.925\" xlink:href=\"#m2e69d4bb2e\" y=\"26.596125\"/>\n      </g>\n     </g>\n     <g id=\"text_9\">\n      <!-- 0 -->\n      <g transform=\"translate(13.5625 30.395344)scale(0.1 -0.1)\">\n       <use xlink:href=\"#DejaVuSans-48\"/>\n      </g>\n     </g>\n    </g>\n    <g id=\"ytick_2\">\n     <g id=\"line2d_18\">\n      <g>\n       <use style=\"stroke:#000000;stroke-width:0.8;\" x=\"26.925\" xlink:href=\"#m2e69d4bb2e\" y=\"80.956125\"/>\n      </g>\n     </g>\n     <g id=\"text_10\">\n      <!-- 10 -->\n      <g transform=\"translate(7.2 84.755344)scale(0.1 -0.1)\">\n       <use xlink:href=\"#DejaVuSans-49\"/>\n       <use x=\"63.623047\" xlink:href=\"#DejaVuSans-48\"/>\n      </g>\n     </g>\n    </g>\n    <g id=\"ytick_3\">\n     <g id=\"line2d_19\">\n      <g>\n       <use style=\"stroke:#000000;stroke-width:0.8;\" x=\"26.925\" xlink:href=\"#m2e69d4bb2e\" y=\"135.316125\"/>\n      </g>\n     </g>\n     <g id=\"text_11\">\n      <!-- 20 -->\n      <g transform=\"translate(7.2 139.115344)scale(0.1 -0.1)\">\n       <use xlink:href=\"#DejaVuSans-50\"/>\n       <use x=\"63.623047\" xlink:href=\"#DejaVuSans-48\"/>\n      </g>\n     </g>\n    </g>\n    <g id=\"ytick_4\">\n     <g id=\"line2d_20\">\n      <g>\n       <use style=\"stroke:#000000;stroke-width:0.8;\" x=\"26.925\" xlink:href=\"#m2e69d4bb2e\" y=\"189.676125\"/>\n      </g>\n     </g>\n     <g id=\"text_12\">\n      <!-- 30 -->\n      <g transform=\"translate(7.2 193.475344)scale(0.1 -0.1)\">\n       <use xlink:href=\"#DejaVuSans-51\"/>\n       <use x=\"63.623047\" xlink:href=\"#DejaVuSans-48\"/>\n      </g>\n     </g>\n    </g>\n    <g id=\"ytick_5\">\n     <g id=\"line2d_21\">\n      <g>\n       <use style=\"stroke:#000000;stroke-width:0.8;\" x=\"26.925\" xlink:href=\"#m2e69d4bb2e\" y=\"244.036125\"/>\n      </g>\n     </g>\n     <g id=\"text_13\">\n      <!-- 40 -->\n      <g transform=\"translate(7.2 247.835344)scale(0.1 -0.1)\">\n       <use xlink:href=\"#DejaVuSans-52\"/>\n       <use x=\"63.623047\" xlink:href=\"#DejaVuSans-48\"/>\n      </g>\n     </g>\n    </g>\n    <g id=\"ytick_6\">\n     <g id=\"line2d_22\">\n      <g>\n       <use style=\"stroke:#000000;stroke-width:0.8;\" x=\"26.925\" xlink:href=\"#m2e69d4bb2e\" y=\"298.396125\"/>\n      </g>\n     </g>\n     <g id=\"text_14\">\n      <!-- 50 -->\n      <g transform=\"translate(7.2 302.195344)scale(0.1 -0.1)\">\n       <use xlink:href=\"#DejaVuSans-53\"/>\n       <use x=\"63.623047\" xlink:href=\"#DejaVuSans-48\"/>\n      </g>\n     </g>\n    </g>\n    <g id=\"ytick_7\">\n     <g id=\"line2d_23\">\n      <g>\n       <use style=\"stroke:#000000;stroke-width:0.8;\" x=\"26.925\" xlink:href=\"#m2e69d4bb2e\" y=\"352.756125\"/>\n      </g>\n     </g>\n     <g id=\"text_15\">\n      <!-- 60 -->\n      <g transform=\"translate(7.2 356.555344)scale(0.1 -0.1)\">\n       <use xlink:href=\"#DejaVuSans-54\"/>\n       <use x=\"63.623047\" xlink:href=\"#DejaVuSans-48\"/>\n      </g>\n     </g>\n    </g>\n    <g id=\"ytick_8\">\n     <g id=\"line2d_24\">\n      <g>\n       <use style=\"stroke:#000000;stroke-width:0.8;\" x=\"26.925\" xlink:href=\"#m2e69d4bb2e\" y=\"407.116125\"/>\n      </g>\n     </g>\n     <g id=\"text_16\">\n      <!-- 70 -->\n      <g transform=\"translate(7.2 410.915344)scale(0.1 -0.1)\">\n       <use xlink:href=\"#DejaVuSans-55\"/>\n       <use x=\"63.623047\" xlink:href=\"#DejaVuSans-48\"/>\n      </g>\n     </g>\n    </g>\n   </g>\n   <g id=\"patch_3\">\n    <path d=\"M 26.925 458.758125 \nL 26.925 23.878125 \n\" style=\"fill:none;stroke:#000000;stroke-linecap:square;stroke-linejoin:miter;stroke-width:0.8;\"/>\n   </g>\n   <g id=\"patch_4\">\n    <path d=\"M 461.805 458.758125 \nL 461.805 23.878125 \n\" style=\"fill:none;stroke:#000000;stroke-linecap:square;stroke-linejoin:miter;stroke-width:0.8;\"/>\n   </g>\n   <g id=\"patch_5\">\n    <path d=\"M 26.925 458.758125 \nL 461.805 458.758125 \n\" style=\"fill:none;stroke:#000000;stroke-linecap:square;stroke-linejoin:miter;stroke-width:0.8;\"/>\n   </g>\n   <g id=\"patch_6\">\n    <path d=\"M 26.925 23.878125 \nL 461.805 23.878125 \n\" style=\"fill:none;stroke:#000000;stroke-linecap:square;stroke-linejoin:miter;stroke-width:0.8;\"/>\n   </g>\n  </g>\n </g>\n <defs>\n  <clipPath id=\"p990f4ab80b\">\n   <rect height=\"434.88\" width=\"434.88\" x=\"26.925\" y=\"23.878125\"/>\n  </clipPath>\n </defs>\n</svg>\n",
      "image/png": "[encoded data removed]"
     },
     "metadata": {
      "needs_background": "light"
     }
    }
   ],
   "source": [
    "adj_audioset_father = np.zeros((N_labels, N_labels))\n",
    "for aid, audio_info in audioset.items():\n",
    "    if len(audio_info[\"child_ids\"]) > 1:\n",
    "        for i, j in combinations(audio_info[\"child_ids\"], 2):\n",
    "            audio_info1, audio_info2 = audioset[i], audioset[j]\n",
    "            name1 = audio_info1[\"name\"].replace(\" \", \"_\")\n",
    "            name2 = audio_info2[\"name\"].replace(\" \", \"_\")\n",
    "            if name1 in label2index and name2 in label2index:\n",
    "                ida, idb = label2index[name1], label2index[name2]\n",
    "                adj_audioset_father[ida, idb] = 1\n",
    "                adj_audioset_father[idb, ida] = 1\n",
    "print(adj_audioset_father.sum())\n",
    "fig = plt.figure(figsize=(8,8))\n",
    "plt.matshow(adj_audioset_father, fignum=0)\n",
    "plt.show()"
   ]
  },
  {
   "cell_type": "code",
   "execution_count": 15,
   "metadata": {},
   "outputs": [
    {
     "output_type": "execute_result",
     "data": {
      "text/plain": [
       "Graph(num_nodes=80, num_edges=258,\n",
       "      ndata_schemes={}\n",
       "      edata_schemes={})"
      ]
     },
     "metadata": {},
     "execution_count": 15
    }
   ],
   "source": [
    "dgl_audioset_father = dgl.from_scipy(csr_matrix(adj_audioset_father))\n",
    "dgl_audioset_father = dgl_audioset_father.add_self_loop()\n",
    "with open(\"../input/audioset_father_graph.pkl\", \"wb\") as f:\n",
    "    pickle.dump([dgl_audioset_father, np.arange(80)], f)\n",
    "tmp_g, tmp_indices = pickle.load(open(\"../input/audioset_father_graph.pkl\", \"rb\"))\n",
    "tmp_g"
   ]
  },
  {
   "cell_type": "code",
   "execution_count": 16,
   "metadata": {},
   "outputs": [
    {
     "output_type": "stream",
     "name": "stdout",
     "text": [
      "93\n"
     ]
    },
    {
     "output_type": "display_data",
     "data": {
      "text/plain": "<Figure size 576x576 with 1 Axes>",
      "image/svg+xml": "<?xml version=\"1.0\" encoding=\"utf-8\" standalone=\"no\"?>\n<!DOCTYPE svg PUBLIC \"-//W3C//DTD SVG 1.1//EN\"\n  \"http://www.w3.org/Graphics/SVG/1.1/DTD/svg11.dtd\">\n<!-- Created with matplotlib (https://matplotlib.org/) -->\n<svg height=\"469.458125pt\" version=\"1.1\" viewBox=\"0 0 469.005 469.458125\" width=\"469.005pt\" xmlns=\"http://www.w3.org/2000/svg\" xmlns:xlink=\"http://www.w3.org/1999/xlink\">\n <metadata>\n  <rdf:RDF xmlns:cc=\"http://creativecommons.org/ns#\" xmlns:dc=\"http://purl.org/dc/elements/1.1/\" xmlns:rdf=\"http://www.w3.org/1999/02/22-rdf-syntax-ns#\">\n   <cc:Work>\n    <dc:type rdf:resource=\"http://purl.org/dc/dcmitype/StillImage\"/>\n    <dc:date>2021-02-13T15:22:02.046241</dc:date>\n    <dc:format>image/svg+xml</dc:format>\n    <dc:creator>\n     <cc:Agent>\n      <dc:title>Matplotlib v3.3.4, https://matplotlib.org/</dc:title>\n     </cc:Agent>\n    </dc:creator>\n   </cc:Work>\n  </rdf:RDF>\n </metadata>\n <defs>\n  <style type=\"text/css\">*{stroke-linecap:butt;stroke-linejoin:round;}</style>\n </defs>\n <g id=\"figure_1\">\n  <g id=\"patch_1\">\n   <path d=\"M 0 469.458125 \nL 469.005 469.458125 \nL 469.005 0 \nL 0 0 \nz\n\" style=\"fill:none;\"/>\n  </g>\n  <g id=\"axes_1\">\n   <g id=\"patch_2\">\n    <path d=\"M 26.925 458.758125 \nL 461.805 458.758125 \nL 461.805 23.878125 \nL 26.925 23.878125 \nz\n\" style=\"fill:#ffffff;\"/>\n   </g>\n   <g clip-path=\"url(#p0abffa50ec)\">\n    <image height=\"435\" id=\"image6c525a205a\" transform=\"scale(1 -1)translate(0 -435)\" width=\"435\" x=\"26.925\" xlink:href=\"data:image/png;base64,\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\" y=\"-23.758125\"/>\n   </g>\n   <g id=\"matplotlib.axis_1\">\n    <g id=\"xtick_1\">\n     <g id=\"line2d_1\">\n      <defs>\n       <path d=\"M 0 0 \nL 0 3.5 \n\" id=\"mf09057fa75\" style=\"stroke:#000000;stroke-width:0.8;\"/>\n      </defs>\n      <g>\n       <use style=\"stroke:#000000;stroke-width:0.8;\" x=\"29.643\" xlink:href=\"#mf09057fa75\" y=\"458.758125\"/>\n      </g>\n     </g>\n     <g id=\"line2d_2\">\n      <defs>\n       <path d=\"M 0 0 \nL 0 -3.5 \n\" id=\"m83bee883cb\" style=\"stroke:#000000;stroke-width:0.8;\"/>\n      </defs>\n      <g>\n       <use style=\"stroke:#000000;stroke-width:0.8;\" x=\"29.643\" xlink:href=\"#m83bee883cb\" y=\"23.878125\"/>\n      </g>\n     </g>\n     <g id=\"text_1\">\n      <!-- 0 -->\n      <g transform=\"translate(26.46175 14.798438)scale(0.1 -0.1)\">\n       <defs>\n        <path d=\"M 31.78125 66.40625 \nQ 24.171875 66.40625 20.328125 58.90625 \nQ 16.5 51.421875 16.5 36.375 \nQ 16.5 21.390625 20.328125 13.890625 \nQ 24.171875 6.390625 31.78125 6.390625 \nQ 39.453125 6.390625 43.28125 13.890625 \nQ 47.125 21.390625 47.125 36.375 \nQ 47.125 51.421875 43.28125 58.90625 \nQ 39.453125 66.40625 31.78125 66.40625 \nz\nM 31.78125 74.21875 \nQ 44.046875 74.21875 50.515625 64.515625 \nQ 56.984375 54.828125 56.984375 36.375 \nQ 56.984375 17.96875 50.515625 8.265625 \nQ 44.046875 -1.421875 31.78125 -1.421875 \nQ 19.53125 -1.421875 13.0625 8.265625 \nQ 6.59375 17.96875 6.59375 36.375 \nQ 6.59375 54.828125 13.0625 64.515625 \nQ 19.53125 74.21875 31.78125 74.21875 \nz\n\" id=\"DejaVuSans-48\"/>\n       </defs>\n       <use xlink:href=\"#DejaVuSans-48\"/>\n      </g>\n     </g>\n    </g>\n    <g id=\"xtick_2\">\n     <g id=\"line2d_3\">\n      <g>\n       <use style=\"stroke:#000000;stroke-width:0.8;\" x=\"84.003\" xlink:href=\"#mf09057fa75\" y=\"458.758125\"/>\n      </g>\n     </g>\n     <g id=\"line2d_4\">\n      <g>\n       <use style=\"stroke:#000000;stroke-width:0.8;\" x=\"84.003\" xlink:href=\"#m83bee883cb\" y=\"23.878125\"/>\n      </g>\n     </g>\n     <g id=\"text_2\">\n      <!-- 10 -->\n      <g transform=\"translate(77.6405 14.798438)scale(0.1 -0.1)\">\n       <defs>\n        <path d=\"M 12.40625 8.296875 \nL 28.515625 8.296875 \nL 28.515625 63.921875 \nL 10.984375 60.40625 \nL 10.984375 69.390625 \nL 28.421875 72.90625 \nL 38.28125 72.90625 \nL 38.28125 8.296875 \nL 54.390625 8.296875 \nL 54.390625 0 \nL 12.40625 0 \nz\n\" id=\"DejaVuSans-49\"/>\n       </defs>\n       <use xlink:href=\"#DejaVuSans-49\"/>\n       <use x=\"63.623047\" xlink:href=\"#DejaVuSans-48\"/>\n      </g>\n     </g>\n    </g>\n    <g id=\"xtick_3\">\n     <g id=\"line2d_5\">\n      <g>\n       <use style=\"stroke:#000000;stroke-width:0.8;\" x=\"138.363\" xlink:href=\"#mf09057fa75\" y=\"458.758125\"/>\n      </g>\n     </g>\n     <g id=\"line2d_6\">\n      <g>\n       <use style=\"stroke:#000000;stroke-width:0.8;\" x=\"138.363\" xlink:href=\"#m83bee883cb\" y=\"23.878125\"/>\n      </g>\n     </g>\n     <g id=\"text_3\">\n      <!-- 20 -->\n      <g transform=\"translate(132.0005 14.798438)scale(0.1 -0.1)\">\n       <defs>\n        <path d=\"M 19.1875 8.296875 \nL 53.609375 8.296875 \nL 53.609375 0 \nL 7.328125 0 \nL 7.328125 8.296875 \nQ 12.9375 14.109375 22.625 23.890625 \nQ 32.328125 33.6875 34.8125 36.53125 \nQ 39.546875 41.84375 41.421875 45.53125 \nQ 43.3125 49.21875 43.3125 52.78125 \nQ 43.3125 58.59375 39.234375 62.25 \nQ 35.15625 65.921875 28.609375 65.921875 \nQ 23.96875 65.921875 18.8125 64.3125 \nQ 13.671875 62.703125 7.8125 59.421875 \nL 7.8125 69.390625 \nQ 13.765625 71.78125 18.9375 73 \nQ 24.125 74.21875 28.421875 74.21875 \nQ 39.75 74.21875 46.484375 68.546875 \nQ 53.21875 62.890625 53.21875 53.421875 \nQ 53.21875 48.921875 51.53125 44.890625 \nQ 49.859375 40.875 45.40625 35.40625 \nQ 44.1875 33.984375 37.640625 27.21875 \nQ 31.109375 20.453125 19.1875 8.296875 \nz\n\" id=\"DejaVuSans-50\"/>\n       </defs>\n       <use xlink:href=\"#DejaVuSans-50\"/>\n       <use x=\"63.623047\" xlink:href=\"#DejaVuSans-48\"/>\n      </g>\n     </g>\n    </g>\n    <g id=\"xtick_4\">\n     <g id=\"line2d_7\">\n      <g>\n       <use style=\"stroke:#000000;stroke-width:0.8;\" x=\"192.723\" xlink:href=\"#mf09057fa75\" y=\"458.758125\"/>\n      </g>\n     </g>\n     <g id=\"line2d_8\">\n      <g>\n       <use style=\"stroke:#000000;stroke-width:0.8;\" x=\"192.723\" xlink:href=\"#m83bee883cb\" y=\"23.878125\"/>\n      </g>\n     </g>\n     <g id=\"text_4\">\n      <!-- 30 -->\n      <g transform=\"translate(186.3605 14.798438)scale(0.1 -0.1)\">\n       <defs>\n        <path d=\"M 40.578125 39.3125 \nQ 47.65625 37.796875 51.625 33 \nQ 55.609375 28.21875 55.609375 21.1875 \nQ 55.609375 10.40625 48.1875 4.484375 \nQ 40.765625 -1.421875 27.09375 -1.421875 \nQ 22.515625 -1.421875 17.65625 -0.515625 \nQ 12.796875 0.390625 7.625 2.203125 \nL 7.625 11.71875 \nQ 11.71875 9.328125 16.59375 8.109375 \nQ 21.484375 6.890625 26.8125 6.890625 \nQ 36.078125 6.890625 40.9375 10.546875 \nQ 45.796875 14.203125 45.796875 21.1875 \nQ 45.796875 27.640625 41.28125 31.265625 \nQ 36.765625 34.90625 28.71875 34.90625 \nL 20.21875 34.90625 \nL 20.21875 43.015625 \nL 29.109375 43.015625 \nQ 36.375 43.015625 40.234375 45.921875 \nQ 44.09375 48.828125 44.09375 54.296875 \nQ 44.09375 59.90625 40.109375 62.90625 \nQ 36.140625 65.921875 28.71875 65.921875 \nQ 24.65625 65.921875 20.015625 65.03125 \nQ 15.375 64.15625 9.8125 62.3125 \nL 9.8125 71.09375 \nQ 15.4375 72.65625 20.34375 73.4375 \nQ 25.25 74.21875 29.59375 74.21875 \nQ 40.828125 74.21875 47.359375 69.109375 \nQ 53.90625 64.015625 53.90625 55.328125 \nQ 53.90625 49.265625 50.4375 45.09375 \nQ 46.96875 40.921875 40.578125 39.3125 \nz\n\" id=\"DejaVuSans-51\"/>\n       </defs>\n       <use xlink:href=\"#DejaVuSans-51\"/>\n       <use x=\"63.623047\" xlink:href=\"#DejaVuSans-48\"/>\n      </g>\n     </g>\n    </g>\n    <g id=\"xtick_5\">\n     <g id=\"line2d_9\">\n      <g>\n       <use style=\"stroke:#000000;stroke-width:0.8;\" x=\"247.083\" xlink:href=\"#mf09057fa75\" y=\"458.758125\"/>\n      </g>\n     </g>\n     <g id=\"line2d_10\">\n      <g>\n       <use style=\"stroke:#000000;stroke-width:0.8;\" x=\"247.083\" xlink:href=\"#m83bee883cb\" y=\"23.878125\"/>\n      </g>\n     </g>\n     <g id=\"text_5\">\n      <!-- 40 -->\n      <g transform=\"translate(240.7205 14.798438)scale(0.1 -0.1)\">\n       <defs>\n        <path d=\"M 37.796875 64.3125 \nL 12.890625 25.390625 \nL 37.796875 25.390625 \nz\nM 35.203125 72.90625 \nL 47.609375 72.90625 \nL 47.609375 25.390625 \nL 58.015625 25.390625 \nL 58.015625 17.1875 \nL 47.609375 17.1875 \nL 47.609375 0 \nL 37.796875 0 \nL 37.796875 17.1875 \nL 4.890625 17.1875 \nL 4.890625 26.703125 \nz\n\" id=\"DejaVuSans-52\"/>\n       </defs>\n       <use xlink:href=\"#DejaVuSans-52\"/>\n       <use x=\"63.623047\" xlink:href=\"#DejaVuSans-48\"/>\n      </g>\n     </g>\n    </g>\n    <g id=\"xtick_6\">\n     <g id=\"line2d_11\">\n      <g>\n       <use style=\"stroke:#000000;stroke-width:0.8;\" x=\"301.443\" xlink:href=\"#mf09057fa75\" y=\"458.758125\"/>\n      </g>\n     </g>\n     <g id=\"line2d_12\">\n      <g>\n       <use style=\"stroke:#000000;stroke-width:0.8;\" x=\"301.443\" xlink:href=\"#m83bee883cb\" y=\"23.878125\"/>\n      </g>\n     </g>\n     <g id=\"text_6\">\n      <!-- 50 -->\n      <g transform=\"translate(295.0805 14.798438)scale(0.1 -0.1)\">\n       <defs>\n        <path d=\"M 10.796875 72.90625 \nL 49.515625 72.90625 \nL 49.515625 64.59375 \nL 19.828125 64.59375 \nL 19.828125 46.734375 \nQ 21.96875 47.46875 24.109375 47.828125 \nQ 26.265625 48.1875 28.421875 48.1875 \nQ 40.625 48.1875 47.75 41.5 \nQ 54.890625 34.8125 54.890625 23.390625 \nQ 54.890625 11.625 47.5625 5.09375 \nQ 40.234375 -1.421875 26.90625 -1.421875 \nQ 22.3125 -1.421875 17.546875 -0.640625 \nQ 12.796875 0.140625 7.71875 1.703125 \nL 7.71875 11.625 \nQ 12.109375 9.234375 16.796875 8.0625 \nQ 21.484375 6.890625 26.703125 6.890625 \nQ 35.15625 6.890625 40.078125 11.328125 \nQ 45.015625 15.765625 45.015625 23.390625 \nQ 45.015625 31 40.078125 35.4375 \nQ 35.15625 39.890625 26.703125 39.890625 \nQ 22.75 39.890625 18.8125 39.015625 \nQ 14.890625 38.140625 10.796875 36.28125 \nz\n\" id=\"DejaVuSans-53\"/>\n       </defs>\n       <use xlink:href=\"#DejaVuSans-53\"/>\n       <use x=\"63.623047\" xlink:href=\"#DejaVuSans-48\"/>\n      </g>\n     </g>\n    </g>\n    <g id=\"xtick_7\">\n     <g id=\"line2d_13\">\n      <g>\n       <use style=\"stroke:#000000;stroke-width:0.8;\" x=\"355.803\" xlink:href=\"#mf09057fa75\" y=\"458.758125\"/>\n      </g>\n     </g>\n     <g id=\"line2d_14\">\n      <g>\n       <use style=\"stroke:#000000;stroke-width:0.8;\" x=\"355.803\" xlink:href=\"#m83bee883cb\" y=\"23.878125\"/>\n      </g>\n     </g>\n     <g id=\"text_7\">\n      <!-- 60 -->\n      <g transform=\"translate(349.4405 14.798438)scale(0.1 -0.1)\">\n       <defs>\n        <path d=\"M 33.015625 40.375 \nQ 26.375 40.375 22.484375 35.828125 \nQ 18.609375 31.296875 18.609375 23.390625 \nQ 18.609375 15.53125 22.484375 10.953125 \nQ 26.375 6.390625 33.015625 6.390625 \nQ 39.65625 6.390625 43.53125 10.953125 \nQ 47.40625 15.53125 47.40625 23.390625 \nQ 47.40625 31.296875 43.53125 35.828125 \nQ 39.65625 40.375 33.015625 40.375 \nz\nM 52.59375 71.296875 \nL 52.59375 62.3125 \nQ 48.875 64.0625 45.09375 64.984375 \nQ 41.3125 65.921875 37.59375 65.921875 \nQ 27.828125 65.921875 22.671875 59.328125 \nQ 17.53125 52.734375 16.796875 39.40625 \nQ 19.671875 43.65625 24.015625 45.921875 \nQ 28.375 48.1875 33.59375 48.1875 \nQ 44.578125 48.1875 50.953125 41.515625 \nQ 57.328125 34.859375 57.328125 23.390625 \nQ 57.328125 12.15625 50.6875 5.359375 \nQ 44.046875 -1.421875 33.015625 -1.421875 \nQ 20.359375 -1.421875 13.671875 8.265625 \nQ 6.984375 17.96875 6.984375 36.375 \nQ 6.984375 53.65625 15.1875 63.9375 \nQ 23.390625 74.21875 37.203125 74.21875 \nQ 40.921875 74.21875 44.703125 73.484375 \nQ 48.484375 72.75 52.59375 71.296875 \nz\n\" id=\"DejaVuSans-54\"/>\n       </defs>\n       <use xlink:href=\"#DejaVuSans-54\"/>\n       <use x=\"63.623047\" xlink:href=\"#DejaVuSans-48\"/>\n      </g>\n     </g>\n    </g>\n    <g id=\"xtick_8\">\n     <g id=\"line2d_15\">\n      <g>\n       <use style=\"stroke:#000000;stroke-width:0.8;\" x=\"410.163\" xlink:href=\"#mf09057fa75\" y=\"458.758125\"/>\n      </g>\n     </g>\n     <g id=\"line2d_16\">\n      <g>\n       <use style=\"stroke:#000000;stroke-width:0.8;\" x=\"410.163\" xlink:href=\"#m83bee883cb\" y=\"23.878125\"/>\n      </g>\n     </g>\n     <g id=\"text_8\">\n      <!-- 70 -->\n      <g transform=\"translate(403.8005 14.798438)scale(0.1 -0.1)\">\n       <defs>\n        <path d=\"M 8.203125 72.90625 \nL 55.078125 72.90625 \nL 55.078125 68.703125 \nL 28.609375 0 \nL 18.3125 0 \nL 43.21875 64.59375 \nL 8.203125 64.59375 \nz\n\" id=\"DejaVuSans-55\"/>\n       </defs>\n       <use xlink:href=\"#DejaVuSans-55\"/>\n       <use x=\"63.623047\" xlink:href=\"#DejaVuSans-48\"/>\n      </g>\n     </g>\n    </g>\n   </g>\n   <g id=\"matplotlib.axis_2\">\n    <g id=\"ytick_1\">\n     <g id=\"line2d_17\">\n      <defs>\n       <path d=\"M 0 0 \nL -3.5 0 \n\" id=\"mfae9c0bd1a\" style=\"stroke:#000000;stroke-width:0.8;\"/>\n      </defs>\n      <g>\n       <use style=\"stroke:#000000;stroke-width:0.8;\" x=\"26.925\" xlink:href=\"#mfae9c0bd1a\" y=\"26.596125\"/>\n      </g>\n     </g>\n     <g id=\"text_9\">\n      <!-- 0 -->\n      <g transform=\"translate(13.5625 30.395344)scale(0.1 -0.1)\">\n       <use xlink:href=\"#DejaVuSans-48\"/>\n      </g>\n     </g>\n    </g>\n    <g id=\"ytick_2\">\n     <g id=\"line2d_18\">\n      <g>\n       <use style=\"stroke:#000000;stroke-width:0.8;\" x=\"26.925\" xlink:href=\"#mfae9c0bd1a\" y=\"80.956125\"/>\n      </g>\n     </g>\n     <g id=\"text_10\">\n      <!-- 10 -->\n      <g transform=\"translate(7.2 84.755344)scale(0.1 -0.1)\">\n       <use xlink:href=\"#DejaVuSans-49\"/>\n       <use x=\"63.623047\" xlink:href=\"#DejaVuSans-48\"/>\n      </g>\n     </g>\n    </g>\n    <g id=\"ytick_3\">\n     <g id=\"line2d_19\">\n      <g>\n       <use style=\"stroke:#000000;stroke-width:0.8;\" x=\"26.925\" xlink:href=\"#mfae9c0bd1a\" y=\"135.316125\"/>\n      </g>\n     </g>\n     <g id=\"text_11\">\n      <!-- 20 -->\n      <g transform=\"translate(7.2 139.115344)scale(0.1 -0.1)\">\n       <use xlink:href=\"#DejaVuSans-50\"/>\n       <use x=\"63.623047\" xlink:href=\"#DejaVuSans-48\"/>\n      </g>\n     </g>\n    </g>\n    <g id=\"ytick_4\">\n     <g id=\"line2d_20\">\n      <g>\n       <use style=\"stroke:#000000;stroke-width:0.8;\" x=\"26.925\" xlink:href=\"#mfae9c0bd1a\" y=\"189.676125\"/>\n      </g>\n     </g>\n     <g id=\"text_12\">\n      <!-- 30 -->\n      <g transform=\"translate(7.2 193.475344)scale(0.1 -0.1)\">\n       <use xlink:href=\"#DejaVuSans-51\"/>\n       <use x=\"63.623047\" xlink:href=\"#DejaVuSans-48\"/>\n      </g>\n     </g>\n    </g>\n    <g id=\"ytick_5\">\n     <g id=\"line2d_21\">\n      <g>\n       <use style=\"stroke:#000000;stroke-width:0.8;\" x=\"26.925\" xlink:href=\"#mfae9c0bd1a\" y=\"244.036125\"/>\n      </g>\n     </g>\n     <g id=\"text_13\">\n      <!-- 40 -->\n      <g transform=\"translate(7.2 247.835344)scale(0.1 -0.1)\">\n       <use xlink:href=\"#DejaVuSans-52\"/>\n       <use x=\"63.623047\" xlink:href=\"#DejaVuSans-48\"/>\n      </g>\n     </g>\n    </g>\n    <g id=\"ytick_6\">\n     <g id=\"line2d_22\">\n      <g>\n       <use style=\"stroke:#000000;stroke-width:0.8;\" x=\"26.925\" xlink:href=\"#mfae9c0bd1a\" y=\"298.396125\"/>\n      </g>\n     </g>\n     <g id=\"text_14\">\n      <!-- 50 -->\n      <g transform=\"translate(7.2 302.195344)scale(0.1 -0.1)\">\n       <use xlink:href=\"#DejaVuSans-53\"/>\n       <use x=\"63.623047\" xlink:href=\"#DejaVuSans-48\"/>\n      </g>\n     </g>\n    </g>\n    <g id=\"ytick_7\">\n     <g id=\"line2d_23\">\n      <g>\n       <use style=\"stroke:#000000;stroke-width:0.8;\" x=\"26.925\" xlink:href=\"#mfae9c0bd1a\" y=\"352.756125\"/>\n      </g>\n     </g>\n     <g id=\"text_15\">\n      <!-- 60 -->\n      <g transform=\"translate(7.2 356.555344)scale(0.1 -0.1)\">\n       <use xlink:href=\"#DejaVuSans-54\"/>\n       <use x=\"63.623047\" xlink:href=\"#DejaVuSans-48\"/>\n      </g>\n     </g>\n    </g>\n    <g id=\"ytick_8\">\n     <g id=\"line2d_24\">\n      <g>\n       <use style=\"stroke:#000000;stroke-width:0.8;\" x=\"26.925\" xlink:href=\"#mfae9c0bd1a\" y=\"407.116125\"/>\n      </g>\n     </g>\n     <g id=\"text_16\">\n      <!-- 70 -->\n      <g transform=\"translate(7.2 410.915344)scale(0.1 -0.1)\">\n       <use xlink:href=\"#DejaVuSans-55\"/>\n       <use x=\"63.623047\" xlink:href=\"#DejaVuSans-48\"/>\n      </g>\n     </g>\n    </g>\n   </g>\n   <g id=\"patch_3\">\n    <path d=\"M 26.925 458.758125 \nL 26.925 23.878125 \n\" style=\"fill:none;stroke:#000000;stroke-linecap:square;stroke-linejoin:miter;stroke-width:0.8;\"/>\n   </g>\n   <g id=\"patch_4\">\n    <path d=\"M 461.805 458.758125 \nL 461.805 23.878125 \n\" style=\"fill:none;stroke:#000000;stroke-linecap:square;stroke-linejoin:miter;stroke-width:0.8;\"/>\n   </g>\n   <g id=\"patch_5\">\n    <path d=\"M 26.925 458.758125 \nL 461.805 458.758125 \n\" style=\"fill:none;stroke:#000000;stroke-linecap:square;stroke-linejoin:miter;stroke-width:0.8;\"/>\n   </g>\n   <g id=\"patch_6\">\n    <path d=\"M 26.925 23.878125 \nL 461.805 23.878125 \n\" style=\"fill:none;stroke:#000000;stroke-linecap:square;stroke-linejoin:miter;stroke-width:0.8;\"/>\n   </g>\n  </g>\n </g>\n <defs>\n  <clipPath id=\"p0abffa50ec\">\n   <rect height=\"434.88\" width=\"434.88\" x=\"26.925\" y=\"23.878125\"/>\n  </clipPath>\n </defs>\n</svg>\n",
      "image/png": "[encoded data removed]"
     },
     "metadata": {
      "needs_background": "light"
     }
    }
   ],
   "source": [
    "\n",
    "adj_aser = np.zeros((N_labels, N_labels))\n",
    "for rid, rinfo in extracted_audioset_rels_sel.items():\n",
    "    aid1, aid2 = rid.split(\"-\")\n",
    "    aid1 = aid1[:-2] if aid1[-2] == \"~\" else aid1\n",
    "    aid2 = aid2[:-2] if aid2[-2] == \"~\" else aid2\n",
    "    label1, label2 = audioset[aid1][\"name\"], audioset[aid2][\"name\"]\n",
    "    if label1 in label2index and label2 in label2index:\n",
    "        ida, idb = label2index[label1], label2index[label2]\n",
    "        adj_aser[ida, idb] = np.round(rinfo[\"Co_Occurrence\"])\n",
    "adj_aser_b = (adj_aser > 0).astype(int)\n",
    "np.fill_diagonal(adj_aser_b, 0)\n",
    "fig = plt.figure(figsize=(8,8))\n",
    "plt.matshow(adj_aser_b, fignum=0)\n",
    "print(adj_aser_b.sum())\n",
    "plt.show()"
   ]
  },
  {
   "cell_type": "code",
   "execution_count": 17,
   "metadata": {},
   "outputs": [
    {
     "output_type": "execute_result",
     "data": {
      "text/plain": [
       "Graph(num_nodes=80, num_edges=173,\n",
       "      ndata_schemes={}\n",
       "      edata_schemes={})"
      ]
     },
     "metadata": {},
     "execution_count": 17
    }
   ],
   "source": [
    "dgl_aser = dgl.from_scipy(csr_matrix(adj_aser_b))\n",
    "dgl_aser = dgl_aser.add_self_loop()\n",
    "with open(\"../input/aser_co_0.pkl\", \"wb\") as f:\n",
    "    pickle.dump([dgl_aser, np.arange(80)], f)\n",
    "tmp_g, tmp_indices = pickle.load(open(\"../input/aser_co_0.pkl\", \"rb\"))\n",
    "tmp_g"
   ]
  },
  {
   "source": [
    "## type 2 graph: 632 nodes\n",
    "\n",
    "utilizing the whole AudioSet"
   ],
   "cell_type": "markdown",
   "metadata": {}
  },
  {
   "cell_type": "code",
   "execution_count": 12,
   "metadata": {},
   "outputs": [
    {
     "output_type": "stream",
     "name": "stdout",
     "text": [
      "direct 1340.0\nfather 5102.0\n"
     ]
    }
   ],
   "source": [
    "adj_audioset_all_direct = np.zeros((N_nodes, N_nodes))\n",
    "adj_audioset_all_father = np.zeros((N_nodes, N_nodes))\n",
    "for aid, audio_info in audioset.items():\n",
    "    ida = aid2index[aid]\n",
    "    for aid2 in audio_info[\"child_ids\"]:\n",
    "        idb = aid2index[aid2]\n",
    "        adj_audioset_all_direct[ida, idb] = 1\n",
    "        adj_audioset_all_direct[idb, ida] = 1\n",
    "    if len(audio_info[\"child_ids\"]) > 1:\n",
    "        for i, j in combinations(audio_info[\"child_ids\"], 2):\n",
    "            audio_info1, audio_info2 = audioset[i], audioset[j]\n",
    "            ida, idb = aid2index[i], aid2index[j]\n",
    "            adj_audioset_all_father[ida, idb] = 1\n",
    "            adj_audioset_all_father[idb, ida] = 1\n",
    "print(\"direct\", adj_audioset_all_direct.sum())\n",
    "print(\"father\", adj_audioset_all_father.sum())"
   ]
  },
  {
   "cell_type": "code",
   "execution_count": 13,
   "metadata": {},
   "outputs": [
    {
     "output_type": "stream",
     "name": "stdout",
     "text": [
      "[416, 238, 162, 77, 86, 190, 161, 437, 232, 65, 383, 149, 376, 76, 61, 5, 512, 130, 230, 70, 453, 359, 146, 79, 426, 429, 428, 427, 518, 160, 67, 35, 4, 522, 69, 431, 49, 204, 200, 357, 237, 194, 96, 445, 423, 34, 3, 203, 480, 95, 432, 388, 483, 94, 377, 350, 57, 448, 16, 513, 28, 436, 405, 422, 54, 425, 352, 165, 424, 476, 439, 389, 520, 59, 435, 355, 17, 454, 13, 443]\n"
     ]
    }
   ],
   "source": [
    "print(class_indices)"
   ]
  },
  {
   "cell_type": "code",
   "execution_count": 14,
   "metadata": {},
   "outputs": [],
   "source": [
    "index2alabel = {v:k for k, v in alabel2index.items()}"
   ]
  },
  {
   "cell_type": "code",
   "execution_count": 13,
   "metadata": {},
   "outputs": [
    {
     "output_type": "stream",
     "name": "stdout",
     "text": [
      "Applause\nHuman_group_actions\t\n"
     ]
    }
   ],
   "source": [
    "id_check = class_indices[3]\n",
    "print(index2alabel[id_check])\n",
    "for rel_id in np.where(adj_audioset_all_direct[id_check] == 1)[0]:\n",
    "    print(index2alabel[rel_id], end=\"\\t\")\n",
    "print()"
   ]
  },
  {
   "cell_type": "code",
   "execution_count": 16,
   "metadata": {},
   "outputs": [],
   "source": [
    "dgl_audioset_all_direct = dgl.from_scipy(csr_matrix(adj_audioset_all_direct))\n",
    "dgl_audioset_all_direct = dgl_audioset_all_direct.add_self_loop()\n",
    "# with open(\"../input/audioset_all_direct.pkl\", \"wb\") as f:\n",
    "#     pickle.dump([dgl_audioset_all_direct, class_indices], f)\n",
    "# tmp_g, tmp_indices = pickle.load(open(\"../input/aser_audioset_all_direct.pkl\", \"rb\"))\n",
    "# tmp_g"
   ]
  },
  {
   "cell_type": "code",
   "execution_count": 27,
   "metadata": {},
   "outputs": [
    {
     "output_type": "execute_result",
     "data": {
      "text/plain": [
       "Graph(num_nodes=632, num_edges=5734,\n",
       "      ndata_schemes={}\n",
       "      edata_schemes={})"
      ]
     },
     "metadata": {},
     "execution_count": 27
    }
   ],
   "source": [
    "dgl_audioset_all_father = dgl.from_scipy(csr_matrix(adj_audioset_all_father))\n",
    "dgl_audioset_all_father = dgl_audioset_all_father.add_self_loop()\n",
    "with open(\"../input/audioset_all_father.pkl\", \"wb\") as f:\n",
    "    pickle.dump([dgl_audioset_all_father, class_indices], f)\n",
    "tmp_g, tmp_indices = pickle.load(open(\"../input/aser_audioset_all_father.pkl\", \"rb\"))\n",
    "tmp_g"
   ]
  },
  {
   "cell_type": "code",
   "execution_count": 15,
   "metadata": {},
   "outputs": [
    {
     "output_type": "stream",
     "name": "stdout",
     "text": [
      "5774\n"
     ]
    }
   ],
   "source": [
    "adj_aser_all = np.zeros((N_nodes, N_nodes))\n",
    "for rid, rinfo in extracted_audioset_rels_sel.items():\n",
    "    aid1, aid2 = rid.split(\"-\")\n",
    "    aid1 = aid1[:-2] if aid1[-2] == \"~\" else aid1\n",
    "    aid2 = aid2[:-2] if aid2[-2] == \"~\" else aid2\n",
    "    ida, idb = aid2index[aid1], aid2index[aid2]\n",
    "    adj_aser_all[ida, idb] = np.round(rinfo[\"Co_Occurrence\"])\n",
    "adj_aser_all_b = (adj_aser_all > 0).astype(int)\n",
    "np.fill_diagonal(adj_aser_all_b, 0)\n",
    "print(adj_aser_all_b.sum())"
   ]
  },
  {
   "cell_type": "code",
   "execution_count": 28,
   "metadata": {},
   "outputs": [
    {
     "output_type": "execute_result",
     "data": {
      "text/plain": [
       "Graph(num_nodes=632, num_edges=6406,\n",
       "      ndata_schemes={}\n",
       "      edata_schemes={})"
      ]
     },
     "metadata": {},
     "execution_count": 28
    }
   ],
   "source": [
    "dgl_aser_all_b = dgl.from_scipy(csr_matrix(adj_aser_all_b))\n",
    "dgl_aser_all_b = dgl_aser_all_b.add_self_loop()\n",
    "with open(\"../input/aser_all_co_0.pkl\", \"wb\") as f:\n",
    "    pickle.dump([dgl_aser_all_b, class_indices], f)\n",
    "tmp_g, tmp_indices = pickle.load(open(\"../input/aser_all_co_0.pkl\", \"rb\"))\n",
    "tmp_g"
   ]
  },
  {
   "cell_type": "code",
   "execution_count": 29,
   "metadata": {},
   "outputs": [
    {
     "output_type": "execute_result",
     "data": {
      "text/plain": [
       "Graph(num_nodes=632, num_edges=7601,\n",
       "      ndata_schemes={}\n",
       "      edata_schemes={})"
      ]
     },
     "metadata": {},
     "execution_count": 29
    }
   ],
   "source": [
    "dgl_audioset_aser_all = dgl.from_scipy(csr_matrix(adj_aser_all_b + adj_audioset_all_direct))\n",
    "dgl_audioset_aser_all = dgl_audioset_aser_all.add_self_loop()\n",
    "with open(\"../input/audioset_aser_all_co_0.pkl\", \"wb\") as f:\n",
    "    pickle.dump([dgl_audioset_aser_all, class_indices], f)\n",
    "tmp_g, tmp_indices = pickle.load(open(\"../input/audioset_aser_all_co_0.pkl\", \"rb\"))\n",
    "tmp_g"
   ]
  },
  {
   "cell_type": "code",
   "execution_count": 13,
   "metadata": {},
   "outputs": [
    {
     "output_type": "stream",
     "name": "stdout",
     "text": [
      "2168\n"
     ]
    }
   ],
   "source": [
    "adj_aser_all_b2 = (adj_aser_all > 5).astype(int)\n",
    "np.fill_diagonal(adj_aser_all_b2, 0)\n",
    "print(adj_aser_all_b2.sum())"
   ]
  },
  {
   "cell_type": "code",
   "execution_count": 15,
   "metadata": {},
   "outputs": [
    {
     "output_type": "execute_result",
     "data": {
      "text/plain": [
       "Graph(num_nodes=632, num_edges=2800,\n",
       "      ndata_schemes={}\n",
       "      edata_schemes={})"
      ]
     },
     "metadata": {},
     "execution_count": 15
    }
   ],
   "source": [
    "dgl_aser_all_b2 = dgl.from_scipy(csr_matrix(adj_aser_all_b2))\n",
    "dgl_aser_all_b2 = dgl_aser_all_b2.add_self_loop()\n",
    "with open(\"../input/aser_all_co_5.pkl\", \"wb\") as f:\n",
    "    pickle.dump([dgl_aser_all_b2, class_indices], f)\n",
    "tmp_g, tmp_indices = pickle.load(open(\"../input/aser_all_co_5.pkl\", \"rb\"))\n",
    "tmp_g"
   ]
  },
  {
   "cell_type": "code",
   "execution_count": 24,
   "metadata": {},
   "outputs": [
    {
     "output_type": "stream",
     "name": "stdout",
     "text": [
      "793.0\n0.0    390\n5.0    107\n1.0     59\n2.0     38\n3.0     29\n4.0      9\ndtype: int64\n"
     ]
    }
   ],
   "source": [
    "adj_aser_top5_b = np.zeros_like(adj_aser_all)\n",
    "top_indegree_indices_per_col = adj_aser_all.argsort(0)\n",
    "for j in range(N_nodes):\n",
    "    top_5 = top_indegree_indices_per_col[-5:, j]\n",
    "    for i in top_5:\n",
    "        if adj_aser_all[i, j] > 5:\n",
    "            adj_aser_top5_b[i, j] = 1\n",
    "print(adj_aser_top5_b.sum())\n",
    "print(pd.Series(adj_aser_top5_b.sum(0)).value_counts())"
   ]
  },
  {
   "cell_type": "code",
   "execution_count": 42,
   "metadata": {},
   "outputs": [
    {
     "output_type": "stream",
     "name": "stderr",
     "text": [
      "/home/zhiling/.conda/envs/py36/lib/python3.6/site-packages/torch/storage.py:34: FutureWarning: pickle support for Storage will be removed in 1.5. Use `torch.save` instead\n  warnings.warn(\"pickle support for Storage will be removed in 1.5. Use `torch.save` instead\", FutureWarning)\n"
     ]
    },
    {
     "output_type": "execute_result",
     "data": {
      "text/plain": [
       "Graph(num_nodes=632, num_edges=1425,\n",
       "      ndata_schemes={}\n",
       "      edata_schemes={})"
      ]
     },
     "metadata": {},
     "execution_count": 42
    }
   ],
   "source": [
    "dgl_aser_top5_b = dgl.from_scipy(csr_matrix(adj_aser_top5_b))\n",
    "dgl_aser_top5_b = dgl_aser_top5_b.add_self_loop()\n",
    "with open(\"../input/aser_all_co_5_top5.pkl\", \"wb\") as f:\n",
    "    pickle.dump([dgl_aser_top5_b, class_indices], f)\n",
    "tmp_g, tmp_indices = pickle.load(open(\"../input/aser_all_co_5_top5.pkl\", \"rb\"))\n",
    "tmp_g"
   ]
  },
  {
   "cell_type": "code",
   "execution_count": 22,
   "metadata": {},
   "outputs": [
    {
     "output_type": "stream",
     "name": "stdout",
     "text": [
      "0.0    270\n5.0    212\n1.0     57\n2.0     45\n3.0     30\n4.0     18\ndtype: int64\n"
     ]
    }
   ],
   "source": [
    "adj_aser_top5_b = np.zeros_like(adj_aser_all)\n",
    "top_indegree_indices_per_col = adj_aser_all.argsort(0)\n",
    "for j in range(N_nodes):\n",
    "    top_5 = top_indegree_indices_per_col[-5:, j]\n",
    "    for i in top_5:\n",
    "        if adj_aser_all[i, j] > 0:\n",
    "            adj_aser_top5_b[i, j] = 1\n",
    "adj_aser_top5_b.sum()\n",
    "print(pd.Series(adj_aser_top5_b.sum(0)).value_counts())"
   ]
  },
  {
   "cell_type": "code",
   "execution_count": 49,
   "metadata": {},
   "outputs": [
    {
     "output_type": "execute_result",
     "data": {
      "text/plain": [
       "Graph(num_nodes=632, num_edges=2001,\n",
       "      ndata_schemes={}\n",
       "      edata_schemes={})"
      ]
     },
     "metadata": {},
     "execution_count": 49
    }
   ],
   "source": [
    "dgl_aser_top5_b = dgl.from_scipy(csr_matrix(adj_aser_top5_b))\n",
    "dgl_aser_top5_b = dgl_aser_top5_b.add_self_loop()\n",
    "with open(\"../input/aser_all_co_0_top5.pkl\", \"wb\") as f:\n",
    "    pickle.dump([dgl_aser_top5_b, class_indices], f)\n",
    "tmp_g, tmp_indices = pickle.load(open(\"../input/aser_all_co_0_top5.pkl\", \"rb\"))\n",
    "tmp_g"
   ]
  },
  {
   "cell_type": "code",
   "execution_count": 18,
   "metadata": {},
   "outputs": [
    {
     "output_type": "execute_result",
     "data": {
      "text/plain": [
       "Graph(num_nodes=632, num_edges=4055,\n",
       "      ndata_schemes={}\n",
       "      edata_schemes={})"
      ]
     },
     "metadata": {},
     "execution_count": 18
    }
   ],
   "source": [
    "combined_adj = np.minimum(adj_aser_all_b2 + adj_audioset_all_direct, 1)\n",
    "dgl_audioset_aser_all = dgl.from_scipy(csr_matrix(combined_adj))\n",
    "dgl_audioset_aser_all = dgl_audioset_aser_all.add_self_loop()\n",
    "with open(\"../input/audioset_aser_all_co_5.pkl\", \"wb\") as f:\n",
    "    pickle.dump([dgl_audioset_aser_all, class_indices], f)\n",
    "tmp_g, tmp_indices = pickle.load(open(\"../input/audioset_aser_all_co_5.pkl\", \"rb\"))\n",
    "tmp_g"
   ]
  },
  {
   "source": [
    "dig deep into relations of ASER"
   ],
   "cell_type": "markdown",
   "metadata": {}
  },
  {
   "cell_type": "code",
   "execution_count": 17,
   "metadata": {},
   "outputs": [
    {
     "output_type": "stream",
     "name": "stdout",
     "text": [
      "defaultdict(<class 'int'>, {'Precedence': 368, 'Co_Occurrence': 6269, 'Conjunction': 1565, 'Alternative': 4, 'Contrast': 278, 'Result': 7, 'Synchronous': 2, 'Condition': 3, 'Reason': 6, 'Succession': 6})\n"
     ]
    }
   ],
   "source": [
    "rel_cnts = defaultdict(int)\n",
    "for rid, rinfo in extracted_audioset_rels_sel.items():\n",
    "    for rel_type in rinfo.keys():\n",
    "        if rel_type in {\"aser_clues\", \"name1\", \"name2\"}:\n",
    "            continue\n",
    "        rel_cnts[rel_type] += 1\n",
    "print(rel_cnts)"
   ]
  },
  {
   "source": [
    "regard Conjunction or Precedence as high quality edges and preserve them"
   ],
   "cell_type": "markdown",
   "metadata": {}
  },
  {
   "cell_type": "code",
   "execution_count": 16,
   "metadata": {},
   "outputs": [
    {
     "output_type": "stream",
     "name": "stdout",
     "text": [
      "1398.0\n1657.0\n1659.0\n"
     ]
    }
   ],
   "source": [
    "adj_conj_aser_all_b = np.zeros((N_nodes, N_nodes))\n",
    "adj_pre_conj_aser_all_b = np.zeros((N_nodes, N_nodes))\n",
    "adj_time_aser_all_b = np.zeros((N_nodes, N_nodes))\n",
    "for rid, rinfo in extracted_audioset_rels_sel.items():\n",
    "    aid1, aid2 = rid.split(\"-\")\n",
    "    aid1 = aid1[:-2] if aid1[-2] == \"~\" else aid1\n",
    "    aid2 = aid2[:-2] if aid2[-2] == \"~\" else aid2\n",
    "    ida, idb = aid2index[aid1], aid2index[aid2]\n",
    "    if any(x in rinfo for x in [\"Conjunction\", \"Precedence\", \"Synchronous\", \"Succession\"]):\n",
    "        adj_time_aser_all_b[ida, idb] = 1\n",
    "    if \"Conjunction\" in rinfo or \"Precedence\" in rinfo:\n",
    "        adj_pre_conj_aser_all_b[ida, idb] = 1\n",
    "    if \"Conjunction\" in rinfo:\n",
    "        adj_conj_aser_all_b[ida, idb] = 1\n",
    "np.fill_diagonal(adj_conj_aser_all_b, 0)\n",
    "np.fill_diagonal(adj_pre_conj_aser_all_b, 0)\n",
    "np.fill_diagonal(adj_time_aser_all_b, 0)\n",
    "print(adj_conj_aser_all_b.sum())\n",
    "print(adj_pre_conj_aser_all_b.sum())\n",
    "print(adj_time_aser_all_b.sum())"
   ]
  },
  {
   "cell_type": "code",
   "execution_count": 17,
   "metadata": {},
   "outputs": [
    {
     "output_type": "stream",
     "name": "stdout",
     "text": [
      "483.0\n0.0    422\n1.0     65\n3.0     60\n2.0     54\n4.0     25\n5.0      6\ndtype: int64\n"
     ]
    }
   ],
   "source": [
    "adj_aser_top5_b = np.zeros_like(adj_aser_all)\n",
    "top_indegree_indices_per_col = adj_aser_all.argsort(0)\n",
    "for j in range(N_nodes):\n",
    "    top_5 = top_indegree_indices_per_col[-5:, j]\n",
    "    for i in top_5:\n",
    "        if adj_time_aser_all_b[i, j] > 0:\n",
    "            adj_aser_top5_b[i, j] = 1\n",
    "print(adj_aser_top5_b.sum())\n",
    "print(pd.Series(adj_aser_top5_b.sum(0)).value_counts())\n",
    "dgl_aser_top5_b = dgl.from_scipy(csr_matrix(adj_aser_top5_b))\n",
    "dgl_aser_top5_b = dgl_aser_top5_b.add_self_loop()\n",
    "# with open(\"../input/aser_all_time_0_top5.pkl\", \"wb\") as f:\n",
    "#     pickle.dump([dgl_aser_top5_b, class_indices], f)\n",
    "# tmp_g, tmp_indices = pickle.load(open(\"../input/aser_all_time_0_top5.pkl\", \"rb\"))\n",
    "# tmp_g"
   ]
  },
  {
   "cell_type": "code",
   "execution_count": 18,
   "metadata": {},
   "outputs": [
    {
     "output_type": "stream",
     "name": "stderr",
     "text": [
      "/home/zhiling/.conda/envs/py36/lib/python3.6/site-packages/torch/storage.py:34: FutureWarning: pickle support for Storage will be removed in 1.5. Use `torch.save` instead\n  warnings.warn(\"pickle support for Storage will be removed in 1.5. Use `torch.save` instead\", FutureWarning)\n"
     ]
    },
    {
     "output_type": "execute_result",
     "data": {
      "text/plain": [
       "Graph(num_nodes=632, num_edges=2413,\n",
       "      ndata_schemes={}\n",
       "      edata_schemes={})"
      ]
     },
     "metadata": {},
     "execution_count": 18
    }
   ],
   "source": [
    "combined_adj = np.minimum(adj_aser_top5_b + adj_audioset_all_direct, 1)\n",
    "dgl_combined_aser_time_0_top5 = dgl.from_scipy(csr_matrix(combined_adj))\n",
    "dgl_combined_aser_time_0_top5 = dgl_combined_aser_time_0_top5.add_self_loop()\n",
    "with open(f\"../input/audioset_aser_time_0_top5.pkl\", \"wb\") as f:\n",
    "    pickle.dump([dgl_combined_aser_time_0_top5, class_indices], f)\n",
    "tmp_g, tmp_indices = pickle.load(open(f\"../input/audioset_aser_time_0_top5.pkl\", \"rb\"))\n",
    "tmp_g"
   ]
  },
  {
   "cell_type": "code",
   "execution_count": 14,
   "metadata": {},
   "outputs": [
    {
     "output_type": "execute_result",
     "data": {
      "text/plain": [
       "Graph(num_nodes=632, num_edges=2030,\n",
       "      ndata_schemes={}\n",
       "      edata_schemes={})"
      ]
     },
     "metadata": {},
     "execution_count": 14
    }
   ],
   "source": [
    "dgl_conj_aser_all_b = dgl.from_scipy(csr_matrix(adj_conj_aser_all_b))\n",
    "dgl_conj_aser_all_b = dgl_conj_aser_all_b.add_self_loop()\n",
    "with open(\"../input/aser_all_conj_0.pkl\", \"wb\") as f:\n",
    "    pickle.dump([dgl_conj_aser_all_b, class_indices], f)\n",
    "tmp_g, tmp_indices = pickle.load(open(\"../input/aser_all_conj_0.pkl\", \"rb\"))\n",
    "tmp_g"
   ]
  },
  {
   "cell_type": "code",
   "execution_count": 15,
   "metadata": {},
   "outputs": [
    {
     "output_type": "execute_result",
     "data": {
      "text/plain": [
       "Graph(num_nodes=632, num_edges=2289,\n",
       "      ndata_schemes={}\n",
       "      edata_schemes={})"
      ]
     },
     "metadata": {},
     "execution_count": 15
    }
   ],
   "source": [
    "dgl_pre_conj_aser_all_b = dgl.from_scipy(csr_matrix(adj_pre_conj_aser_all_b))\n",
    "dgl_pre_conj_aser_all_b = dgl_pre_conj_aser_all_b.add_self_loop()\n",
    "with open(\"../input/aser_all_pre_conj_0.pkl\", \"wb\") as f:\n",
    "    pickle.dump([dgl_pre_conj_aser_all_b, class_indices], f)\n",
    "tmp_g, tmp_indices = pickle.load(open(\"../input/aser_all_pre_conj_0.pkl\", \"rb\"))\n",
    "tmp_g"
   ]
  },
  {
   "cell_type": "code",
   "execution_count": 25,
   "metadata": {},
   "outputs": [
    {
     "output_type": "execute_result",
     "data": {
      "text/plain": [
       "{'aser_clues': [['e139c6496188682e17f56f05258150afe379ca4b',\n",
       "   'e139c6496188682e17f56f05258150afe379ca4b']],\n",
       " 'name1': 'Zing',\n",
       " 'name2': 'Zing',\n",
       " 'Co_Occurrence': 4.0}"
      ]
     },
     "metadata": {},
     "execution_count": 25
    }
   ],
   "source": [
    "rinfo"
   ]
  },
  {
   "cell_type": "code",
   "execution_count": 32,
   "metadata": {
    "tags": []
   },
   "outputs": [
    {
     "output_type": "stream",
     "name": "stdout",
     "text": [
      "736\n"
     ]
    }
   ],
   "source": [
    "thresold = 1\n",
    "adj_pre_conj_aser_all_thr = np.zeros((N_nodes, N_nodes))\n",
    "for rid, rinfo in extracted_audioset_rels_sel.items():\n",
    "    aid1, aid2 = rid.split(\"-\")\n",
    "    aid1 = aid1[:-2] if aid1[-2] == \"~\" else aid1\n",
    "    aid2 = aid2[:-2] if aid2[-2] == \"~\" else aid2\n",
    "    ida, idb = aid2index[aid1], aid2index[aid2]\n",
    "    if \"Conjunction\" in rinfo or \"Precedence\" in rinfo:\n",
    "        # adj_pre_conj_aser_all_thr[ida, idb] += 1\n",
    "        adj_pre_conj_aser_all_thr[ida, idb] += np.ceil(rinfo.get(\"Conjunction\", 0))\n",
    "        adj_pre_conj_aser_all_thr[ida, idb] += np.ceil(rinfo.get(\"Precedence\", 0))\n",
    "np.fill_diagonal(adj_pre_conj_aser_all_thr, 0)\n",
    "adj_pre_conj_aser_all_thr = (adj_pre_conj_aser_all_thr > thresold).astype(int)\n",
    "print(adj_pre_conj_aser_all_thr.sum())"
   ]
  },
  {
   "cell_type": "code",
   "execution_count": 33,
   "metadata": {},
   "outputs": [
    {
     "output_type": "execute_result",
     "data": {
      "text/plain": [
       "Graph(num_nodes=632, num_edges=1368,\n",
       "      ndata_schemes={}\n",
       "      edata_schemes={})"
      ]
     },
     "metadata": {},
     "execution_count": 33
    }
   ],
   "source": [
    "dgl_pre_conj_aser_all_thr = dgl.from_scipy(csr_matrix(adj_pre_conj_aser_all_thr))\n",
    "dgl_pre_conj_aser_all_thr = dgl_pre_conj_aser_all_thr.add_self_loop()\n",
    "with open(f\"../input/aser_all_pre_conj_{thresold}.pkl\", \"wb\") as f:\n",
    "    pickle.dump([dgl_pre_conj_aser_all_thr, class_indices], f)\n",
    "tmp_g, tmp_indices = pickle.load(open(f\"../input/aser_all_pre_conj_{thresold}.pkl\", \"rb\"))\n",
    "tmp_g"
   ]
  },
  {
   "cell_type": "code",
   "execution_count": 35,
   "metadata": {},
   "outputs": [
    {
     "output_type": "execute_result",
     "data": {
      "text/plain": [
       "Graph(num_nodes=632, num_edges=2000,\n",
       "      ndata_schemes={}\n",
       "      edata_schemes={})"
      ]
     },
     "metadata": {},
     "execution_count": 35
    }
   ],
   "source": [
    "combined_adj = np.minimum(adj_pre_conj_aser_all_thr + adj_audioset_all_direct, 1)\n",
    "dgl_combined_pre_conj_aser_all_thr = dgl.from_scipy(csr_matrix(combined_adj))\n",
    "dgl_combined_pre_conj_aser_all_thr = dgl_pre_conj_aser_all_thr.add_self_loop()\n",
    "with open(f\"../input/audioset_aser_all_pre_conj_{thresold}.pkl\", \"wb\") as f:\n",
    "    pickle.dump([dgl_combined_pre_conj_aser_all_thr, class_indices], f)\n",
    "tmp_g, tmp_indices = pickle.load(open(f\"../input/audioset_aser_all_pre_conj_{thresold}.pkl\", \"rb\"))\n",
    "tmp_g"
   ]
  },
  {
   "cell_type": "code",
   "execution_count": 17,
   "metadata": {},
   "outputs": [
    {
     "output_type": "stream",
     "name": "stdout",
     "text": [
      "Precedence 358\nConjunction 1527\nContrast 270\nCo_Occurrence 6044\n"
     ]
    }
   ],
   "source": [
    "# multiple single relations\n",
    "single_rel_types = {\"Precedence\": 'pre', \"Conjunction\": 'conj', \"Contrast\": 'contrast', \"Co_Occurrence\": 'co'}\n",
    "\n",
    "rel2adj = {rel: np.zeros((N_nodes, N_nodes), dtype=int) for rel in single_rel_types}\n",
    "\n",
    "for rid, rinfo in extracted_audioset_rels_sel.items():\n",
    "    aid1, aid2 = rid.split(\"-\")\n",
    "    aid1 = aid1[:-2] if aid1[-2] == \"~\" else aid1\n",
    "    aid2 = aid2[:-2] if aid2[-2] == \"~\" else aid2\n",
    "    ida, idb = aid2index[aid1], aid2index[aid2]\n",
    "    for cand_rel in single_rel_types:\n",
    "        if cand_rel in rinfo:\n",
    "            rel2adj[cand_rel][ida, idb] = 1\n",
    "\n",
    "for rel, adj in rel2adj.items():\n",
    "    rel_abbr = single_rel_types[rel]\n",
    "    print(rel, adj.sum())\n",
    "    if adj.sum() <= 0:\n",
    "        continue\n",
    "    adj = np.minimum(adj + adj_audioset_all_direct, 1)\n",
    "    dgl_g = dgl.from_scipy(csr_matrix(adj))\n",
    "    dgl_g = dgl_g.add_self_loop()\n",
    "\n",
    "    with open(f\"../input/audioset_aser_all_{rel_abbr}_0.pkl\", \"wb\") as f:\n",
    "        pickle.dump([dgl_g, class_indices], f)"
   ]
  },
  {
   "cell_type": "code",
   "execution_count": 15,
   "metadata": {},
   "outputs": [
    {
     "output_type": "stream",
     "name": "stdout",
     "text": [
      "Precedence 640\nConjunction 2597\nContrast 510\nCo_Occurrence 8832\n"
     ]
    }
   ],
   "source": [
    "# multiple single relations\n",
    "single_rel_types = {\"Precedence\": 'pre', \"Conjunction\": 'conj', \"Contrast\": 'contrast', \"Co_Occurrence\": 'co'}\n",
    "\n",
    "rel2adj = {rel: np.zeros((N_nodes, N_nodes), dtype=int) for rel in single_rel_types}\n",
    "\n",
    "for rid, rinfo in extracted_audioset_rels_sel.items():\n",
    "    aid1, aid2 = rid.split(\"-\")\n",
    "    aid1 = aid1[:-2] if aid1[-2] == \"~\" else aid1\n",
    "    aid2 = aid2[:-2] if aid2[-2] == \"~\" else aid2\n",
    "    ida, idb = aid2index[aid1], aid2index[aid2]\n",
    "    for cand_rel in single_rel_types:\n",
    "        if cand_rel in rinfo:\n",
    "            rel2adj[cand_rel][ida, idb] = 1\n",
    "            rel2adj[cand_rel][idb, ida] = 1\n",
    "\n",
    "for rel, adj in rel2adj.items():\n",
    "    rel_abbr = single_rel_types[rel]\n",
    "    print(rel, adj.sum())\n",
    "    if adj.sum() <= 0:\n",
    "        continue\n",
    "    adj = np.minimum(adj + adj_audioset_all_direct, 1)\n",
    "    dgl_g = dgl.from_scipy(csr_matrix(adj))\n",
    "    dgl_g = dgl_g.add_self_loop()\n",
    "\n",
    "    with open(f\"../input/audioset_aser_all_{rel_abbr}_0_bidi.pkl\", \"wb\") as f:\n",
    "        pickle.dump([dgl_g, class_indices], f)"
   ]
  },
  {
   "cell_type": "code",
   "execution_count": 14,
   "metadata": {},
   "outputs": [
    {
     "output_type": "stream",
     "name": "stdout",
     "text": [
      "Precedence 154\nConjunction 709\nContrast 131\nCo_Occurrence 6044\n"
     ]
    }
   ],
   "source": [
    "# multiple single relations with threshold\n",
    "single_rel_types = {\"Precedence\": 'pre', \"Conjunction\": 'conj', \"Contrast\": 'contrast', \"Co_Occurrence\": 'co'}\n",
    "\n",
    "rel2adj = {rel: np.zeros((N_nodes, N_nodes), dtype=int) for rel in single_rel_types}\n",
    "\n",
    "for rid, rinfo in extracted_audioset_rels_sel.items():\n",
    "    aid1, aid2 = rid.split(\"-\")\n",
    "    aid1 = aid1[:-2] if aid1[-2] == \"~\" else aid1\n",
    "    aid2 = aid2[:-2] if aid2[-2] == \"~\" else aid2\n",
    "    ida, idb = aid2index[aid1], aid2index[aid2]\n",
    "    for cand_rel in single_rel_types:\n",
    "        if cand_rel in rinfo:\n",
    "            rel2adj[cand_rel][ida, idb] += np.round(rinfo[cand_rel])\n",
    "\n",
    "threshold = 1\n",
    "for rel, adj in rel2adj.items():\n",
    "    rel_abbr = single_rel_types[rel]\n",
    "    adj = (adj > threshold).astype(int)\n",
    "    print(rel, adj.sum())\n",
    "    if adj.sum() <= 0:\n",
    "        continue\n",
    "    adj = np.minimum(adj + adj_audioset_all_direct, 1)\n",
    "    dgl_g = dgl.from_scipy(csr_matrix(adj))\n",
    "    dgl_g = dgl_g.add_self_loop()\n",
    "\n",
    "    with open(f\"../input/audioset_aser_all_{rel_abbr}_{threshold}.pkl\", \"wb\") as f:\n",
    "        pickle.dump([dgl_g, class_indices], f)"
   ]
  },
  {
   "source": [
    "## relational combine"
   ],
   "cell_type": "markdown",
   "metadata": {}
  },
  {
   "cell_type": "code",
   "execution_count": 33,
   "metadata": {},
   "outputs": [
    {
     "output_type": "execute_result",
     "data": {
      "text/plain": [
       "Graph(num_nodes=632, num_edges=4261,\n",
       "      ndata_schemes={}\n",
       "      edata_schemes={'etype': Scheme(shape=(), dtype=torch.int64)})"
      ]
     },
     "metadata": {},
     "execution_count": 33
    }
   ],
   "source": [
    "dgl_audioset_all_direct = dgl.from_scipy(csr_matrix(adj_audioset_all_direct))\n",
    "dgl_audioset_all_direct = dgl_audioset_all_direct.add_self_loop()\n",
    "begs1, ends1 = dgl_audioset_all_direct.edges()\n",
    "etypes1 = torch.zeros_like(begs1)\n",
    "dgl_pre_conj_aser_all_b = dgl.from_scipy(csr_matrix(adj_pre_conj_aser_all_b))\n",
    "dgl_pre_conj_aser_all_b = dgl_pre_conj_aser_all_b.add_self_loop()\n",
    "begs2, ends2 = dgl_pre_conj_aser_all_b.edges()\n",
    "etypes2 = torch.ones_like(begs2)\n",
    "dgl_rel_combine_audioset_pre_conj_aser = dgl.graph((torch.cat([begs1, begs2]), torch.cat([ends1, ends2])))\n",
    "dgl_rel_combine_audioset_pre_conj_aser.edata[\"etype\"] = torch.cat([etypes1, etypes2])\n",
    "dgl_rel_combine_audioset_pre_conj_aser"
   ]
  },
  {
   "cell_type": "code",
   "execution_count": 34,
   "metadata": {},
   "outputs": [
    {
     "output_type": "execute_result",
     "data": {
      "text/plain": [
       "torch.Size([4261])"
      ]
     },
     "metadata": {},
     "execution_count": 34
    }
   ],
   "source": [
    "dgl_rel_combine_audioset_pre_conj_aser.edata[\"etype\"].shape"
   ]
  },
  {
   "cell_type": "code",
   "execution_count": 35,
   "metadata": {},
   "outputs": [
    {
     "output_type": "execute_result",
     "data": {
      "text/plain": [
       "Graph(num_nodes=632, num_edges=4261,\n",
       "      ndata_schemes={}\n",
       "      edata_schemes={'etype': Scheme(shape=(), dtype=torch.int64)})"
      ]
     },
     "metadata": {},
     "execution_count": 35
    }
   ],
   "source": [
    "with open(\"../input/audioset_aser_rel_combine_pre_conj_0.pkl\", \"wb\") as f:\n",
    "    pickle.dump([dgl_rel_combine_audioset_pre_conj_aser, class_indices], f)\n",
    "tmp_g, tmp_indices = pickle.load(open(\"../input/audioset_aser_rel_combine_pre_conj_0.pkl\", \"rb\"))\n",
    "tmp_g"
   ]
  },
  {
   "source": [
    "only set self-loop for AudioSet, using the original self relations in ASER"
   ],
   "cell_type": "markdown",
   "metadata": {}
  },
  {
   "cell_type": "code",
   "execution_count": 12,
   "metadata": {},
   "outputs": [
    {
     "output_type": "execute_result",
     "data": {
      "text/plain": [
       "Graph(num_nodes=632, num_edges=3768,\n",
       "      ndata_schemes={}\n",
       "      edata_schemes={'etype': Scheme(shape=(), dtype=torch.int64)})"
      ]
     },
     "metadata": {},
     "execution_count": 12
    }
   ],
   "source": [
    "adj_pre_conj_aser_all_b = np.zeros((N_nodes, N_nodes))\n",
    "for rid, rinfo in extracted_audioset_rels_sel.items():\n",
    "    aid1, aid2 = rid.split(\"-\")\n",
    "    aid1 = aid1[:-2] if aid1[-2] == \"~\" else aid1\n",
    "    aid2 = aid2[:-2] if aid2[-2] == \"~\" else aid2\n",
    "    ida, idb = aid2index[aid1], aid2index[aid2]\n",
    "    if \"Conjunction\" in rinfo or \"Precedence\" in rinfo:\n",
    "        adj_pre_conj_aser_all_b[ida, idb] = 1\n",
    "\n",
    "dgl_audioset_all_direct = dgl.from_scipy(csr_matrix(adj_audioset_all_direct))\n",
    "dgl_audioset_all_direct = dgl_audioset_all_direct.add_self_loop()\n",
    "begs1, ends1 = dgl_audioset_all_direct.edges()\n",
    "etypes1 = torch.zeros_like(begs1)\n",
    "dgl_pre_conj_aser_all_b2 = dgl.from_scipy(csr_matrix(adj_pre_conj_aser_all_b))\n",
    "# dgl_pre_conj_aser_all_b = dgl_pre_conj_aser_all_b.add_self_loop()\n",
    "begs2, ends2 = dgl_pre_conj_aser_all_b2.edges()\n",
    "etypes2 = torch.ones_like(begs2)\n",
    "dgl_rel_combine_audioset_pre_conj_aser2 = dgl.graph((torch.cat([begs1, begs2]), torch.cat([ends1, ends2])))\n",
    "dgl_rel_combine_audioset_pre_conj_aser2.edata[\"etype\"] = torch.cat([etypes1, etypes2])\n",
    "dgl_rel_combine_audioset_pre_conj_aser2"
   ]
  },
  {
   "cell_type": "code",
   "execution_count": 41,
   "metadata": {},
   "outputs": [
    {
     "output_type": "execute_result",
     "data": {
      "text/plain": [
       "Graph(num_nodes=632, num_edges=3768,\n",
       "      ndata_schemes={}\n",
       "      edata_schemes={'etype': Scheme(shape=(), dtype=torch.int64)})"
      ]
     },
     "metadata": {},
     "execution_count": 41
    }
   ],
   "source": [
    "with open(\"../input/audioset_aser_rel_combine_pre_conj_0_2.pkl\", \"wb\") as f:\n",
    "    pickle.dump([dgl_rel_combine_audioset_pre_conj_aser2, class_indices], f)\n",
    "tmp_g, tmp_indices = pickle.load(open(\"../input/audioset_aser_rel_combine_pre_conj_0_2.pkl\", \"rb\"))\n",
    "tmp_g"
   ]
  },
  {
   "cell_type": "code",
   "execution_count": 14,
   "metadata": {},
   "outputs": [
    {
     "output_type": "execute_result",
     "data": {
      "text/plain": [
       "Graph(num_nodes=632, num_edges=3629,\n",
       "      ndata_schemes={}\n",
       "      edata_schemes={'etype': Scheme(shape=(), dtype=torch.int64)})"
      ]
     },
     "metadata": {},
     "execution_count": 14
    }
   ],
   "source": [
    "adj_pre_conj_aser_all_b3 = adj_pre_conj_aser_all_b.copy()\n",
    "np.fill_diagonal(adj_pre_conj_aser_all_b3, 0)\n",
    "dgl_pre_conj_aser_all_b3 = dgl.from_scipy(csr_matrix(adj_pre_conj_aser_all_b3))\n",
    "begs2, ends2 = dgl_pre_conj_aser_all_b3.edges()\n",
    "etypes2 = torch.ones_like(begs2)\n",
    "dgl_rel_combine_audioset_pre_conj_aser3 = dgl.graph((torch.cat([begs1, begs2]), torch.cat([ends1, ends2])))\n",
    "dgl_rel_combine_audioset_pre_conj_aser3.edata[\"etype\"] = torch.cat([etypes1, etypes2])\n",
    "dgl_rel_combine_audioset_pre_conj_aser3"
   ]
  },
  {
   "cell_type": "code",
   "execution_count": 15,
   "metadata": {},
   "outputs": [
    {
     "output_type": "execute_result",
     "data": {
      "text/plain": [
       "Graph(num_nodes=632, num_edges=3629,\n",
       "      ndata_schemes={}\n",
       "      edata_schemes={'etype': Scheme(shape=(), dtype=torch.int64)})"
      ]
     },
     "metadata": {},
     "execution_count": 15
    }
   ],
   "source": [
    "with open(\"../input/audioset_aser_rel_combine_pre_conj_0_3.pkl\", \"wb\") as f:\n",
    "    pickle.dump([dgl_rel_combine_audioset_pre_conj_aser3, class_indices], f)\n",
    "tmp_g, tmp_indices = pickle.load(open(\"../input/audioset_aser_rel_combine_pre_conj_0_3.pkl\", \"rb\"))\n",
    "tmp_g"
   ]
  },
  {
   "source": [
    "## Noisy ASER graph"
   ],
   "cell_type": "markdown",
   "metadata": {}
  },
  {
   "cell_type": "code",
   "execution_count": 12,
   "metadata": {},
   "outputs": [
    {
     "output_type": "stream",
     "name": "stdout",
     "text": [
      "399.0\n"
     ]
    }
   ],
   "source": [
    "adj_pre_conj_aser_all_b = np.zeros((N_nodes, N_nodes))\n",
    "for rid, rinfo in extracted_audioset_rels_v2.items():\n",
    "    aid1, aid2 = rid.split(\"-\")\n",
    "    aid1 = aid1[:-2] if aid1[-2] == \"~\" else aid1\n",
    "    aid2 = aid2[:-2] if aid2[-2] == \"~\" else aid2\n",
    "    ida, idb = aid2index[aid1], aid2index[aid2]\n",
    "    if \"Conjunction\" in rinfo or \"Precedence\" in rinfo:\n",
    "        adj_pre_conj_aser_all_b[ida, idb] = 1\n",
    "np.fill_diagonal(adj_pre_conj_aser_all_b, 0)\n",
    "print(adj_pre_conj_aser_all_b.sum())"
   ]
  },
  {
   "cell_type": "code",
   "execution_count": 14,
   "metadata": {},
   "outputs": [
    {
     "output_type": "execute_result",
     "data": {
      "text/plain": [
       "Graph(num_nodes=632, num_edges=1031,\n",
       "      ndata_schemes={}\n",
       "      edata_schemes={})"
      ]
     },
     "metadata": {},
     "execution_count": 14
    }
   ],
   "source": [
    "dgl_pre_conj_aser_all_b = dgl.from_scipy(csr_matrix(adj_pre_conj_aser_all_b))\n",
    "dgl_pre_conj_aser_all_b = dgl_pre_conj_aser_all_b.add_self_loop()\n",
    "with open(\"../input/aser_all_pre_conj_0_v2noisy.pkl\", \"wb\") as f:\n",
    "    pickle.dump([dgl_pre_conj_aser_all_b, class_indices], f)\n",
    "tmp_g, tmp_indices = pickle.load(open(\"../input/aser_all_pre_conj_0_v2noisy.pkl\", \"rb\"))\n",
    "tmp_g"
   ]
  },
  {
   "cell_type": "code",
   "execution_count": 14,
   "metadata": {},
   "outputs": [
    {
     "output_type": "execute_result",
     "data": {
      "text/plain": [
       "Graph(num_nodes=632, num_edges=1008,\n",
       "      ndata_schemes={}\n",
       "      edata_schemes={})"
      ]
     },
     "metadata": {},
     "execution_count": 14
    }
   ],
   "source": [
    "adj_pre_conj_aser_all_b = np.maximum(0, adj_pre_conj_aser_all_b - adj_audioset_all_direct)\n",
    "dgl_pre_conj_aser_all_b_no_onto = dgl.from_scipy(csr_matrix(adj_pre_conj_aser_all_b))\n",
    "dgl_pre_conj_aser_all_b_no_onto = dgl_pre_conj_aser_all_b_no_onto.add_self_loop()\n",
    "with open(\"../input/aser_all_pre_conj_0_v2noisy_no_onto.pkl\", \"wb\") as f:\n",
    "    pickle.dump([dgl_pre_conj_aser_all_b_no_onto, class_indices], f)\n",
    "tmp_g, tmp_indices = pickle.load(open(\"../input/aser_all_pre_conj_0_v2noisy_no_onto.pkl\", \"rb\"))\n",
    "tmp_g"
   ]
  },
  {
   "cell_type": "code",
   "execution_count": 15,
   "metadata": {},
   "outputs": [
    {
     "output_type": "stream",
     "name": "stdout",
     "text": [
      "8655.0\n"
     ]
    }
   ],
   "source": [
    "adj_pre_conj_aser_all_b = np.zeros((N_nodes, N_nodes))\n",
    "for rid, rinfo in extracted_audioset_rels_v3.items():\n",
    "    aid1, aid2 = rid.split(\"-\")\n",
    "    aid1 = aid1[:-2] if aid1[-2] == \"~\" else aid1\n",
    "    aid2 = aid2[:-2] if aid2[-2] == \"~\" else aid2\n",
    "    ida, idb = aid2index[aid1], aid2index[aid2]\n",
    "    if \"Conjunction\" in rinfo or \"Precedence\" in rinfo:\n",
    "        adj_pre_conj_aser_all_b[ida, idb] = 1\n",
    "np.fill_diagonal(adj_pre_conj_aser_all_b, 0)\n",
    "print(adj_pre_conj_aser_all_b.sum())"
   ]
  },
  {
   "cell_type": "code",
   "execution_count": 16,
   "metadata": {},
   "outputs": [
    {
     "output_type": "execute_result",
     "data": {
      "text/plain": [
       "Graph(num_nodes=632, num_edges=9287,\n",
       "      ndata_schemes={}\n",
       "      edata_schemes={})"
      ]
     },
     "metadata": {},
     "execution_count": 16
    }
   ],
   "source": [
    "dgl_pre_conj_aser_all_b = dgl.from_scipy(csr_matrix(adj_pre_conj_aser_all_b))\n",
    "dgl_pre_conj_aser_all_b = dgl_pre_conj_aser_all_b.add_self_loop()\n",
    "with open(\"../input/aser_all_pre_conj_0_v3noisy.pkl\", \"wb\") as f:\n",
    "    pickle.dump([dgl_pre_conj_aser_all_b, class_indices], f)\n",
    "tmp_g, tmp_indices = pickle.load(open(\"../input/aser_all_pre_conj_0_v3noisy.pkl\", \"rb\"))\n",
    "tmp_g"
   ]
  },
  {
   "cell_type": "code",
   "execution_count": 16,
   "metadata": {},
   "outputs": [
    {
     "output_type": "execute_result",
     "data": {
      "text/plain": [
       "Graph(num_nodes=632, num_edges=9145,\n",
       "      ndata_schemes={}\n",
       "      edata_schemes={})"
      ]
     },
     "metadata": {},
     "execution_count": 16
    }
   ],
   "source": [
    "adj_pre_conj_aser_all_b = np.maximum(0, adj_pre_conj_aser_all_b - adj_audioset_all_direct)\n",
    "dgl_pre_conj_aser_all_b_no_onto = dgl.from_scipy(csr_matrix(adj_pre_conj_aser_all_b))\n",
    "dgl_pre_conj_aser_all_b_no_onto = dgl_pre_conj_aser_all_b_no_onto.add_self_loop()\n",
    "with open(\"../input/aser_all_pre_conj_0_v3noisy_no_onto.pkl\", \"wb\") as f:\n",
    "    pickle.dump([dgl_pre_conj_aser_all_b_no_onto, class_indices], f)\n",
    "tmp_g, tmp_indices = pickle.load(open(\"../input/aser_all_pre_conj_0_v3noisy_no_onto.pkl\", \"rb\"))\n",
    "tmp_g"
   ]
  },
  {
   "source": [
    "### align PANNs label"
   ],
   "cell_type": "markdown",
   "metadata": {}
  },
  {
   "cell_type": "code",
   "execution_count": 19,
   "metadata": {},
   "outputs": [],
   "source": [
    "ids_set_panns = pd.read_csv(\"/home/zhiling/py3_workspace/audioset_tagging_cnn/metadata/class_labels_indices.csv\", header=0, index_col=0)[\"mid\"]\n",
    "# print(ids_set_panns)\n",
    "class_indices_panns = [aid2index[id0] for id0 in ids_set_panns]\n",
    "# print(class_indices_panns)"
   ]
  },
  {
   "cell_type": "code",
   "execution_count": 20,
   "metadata": {},
   "outputs": [
    {
     "output_type": "stream",
     "name": "stdout",
     "text": [
      "[353, 209, 143, 67, 75, 168, 142, 372, 203, 58, 321, 130, 314, 66, 54, 3, 442, 113, 201, 63, 386, 299, 127, 69, 362, 365, 364, 363, 448, 141, 60, 33, 2, 452, 62, 367, 44, 181, 177, 297, 208, 172, 84, 379, 359, 32, 1, 180, 412, 83, 368, 326, 415, 82, 315, 290, 51, 381, 14, 443, 26, 371, 342, 358, 49, 361, 292, 146, 360, 408, 374, 327, 450, 53, 370, 295, 15, 387, 11, 378]\n"
     ]
    }
   ],
   "source": [
    "dcase2019_to_panns = [class_indices_panns.index(i) for i in class_indices]\n",
    "print(dcase2019_to_panns)"
   ]
  },
  {
   "cell_type": "code",
   "execution_count": 21,
   "metadata": {},
   "outputs": [
    {
     "output_type": "stream",
     "name": "stdout",
     "text": [
      "audioset_aser_time_0_top5.pkl Graph(num_nodes=632, num_edges=2413,\n      ndata_schemes={}\n      edata_schemes={})\n"
     ]
    }
   ],
   "source": [
    "in_dir = '/home/zhiling/py3_workspace/freesound-audio-tagging-2019/input/'\n",
    "out_dir = \"/home/zhiling/py3_workspace/audioset_tagging_cnn/resources/\"\n",
    "# transfer_list = [\"audioset_aser_all_pre_conj_0.pkl\", 'aser_all_pre_conj_0.pkl', 'audioset_all_direct.pkl', 'audioset_aser_rel_combine_pre_conj_0_2.pkl']\n",
    "# transfer_list = [\"audioset_aser_all_pre_conj_1.pkl\", 'aser_all_pre_conj_1.pkl']\n",
    "# transfer_list = [\"aser_all_co_5.pkl\", \"audioset_aser_all_co_5.pkl\"]\n",
    "# transfer_list = [f\"audioset_aser_all_{rel}_0.pkl\" for rel in {\"pre\", \"conj\", \"contrast\", \"co\"}]\n",
    "# transfer_list = [f\"audioset_aser_all_{rel}_0_bidi.pkl\" for rel in {\"pre\", \"conj\", \"contrast\", \"co\"}]\n",
    "# transfer_list = [f\"audioset_aser_all_{rel}_1.pkl\" for rel in {\"pre\", \"conj\", \"contrast\", \"co\"}]\n",
    "# transfer_list = ['aser_all_co_0_top5.pkl', 'aser_all_co_5_top5.pkl', 'aser_all_time_0_top5.pkl']\n",
    "transfer_list = ['audioset_aser_time_0_top5.pkl']\n",
    "for graph_name in transfer_list:\n",
    "    with open(in_dir+graph_name, \"rb\") as fi, open(out_dir+graph_name, \"wb\") as fo:\n",
    "        g, _ = pickle.load(fi)\n",
    "        print(graph_name, g)\n",
    "        pickle.dump([g, class_indices_panns], fo)"
   ]
  },
  {
   "cell_type": "code",
   "execution_count": null,
   "metadata": {},
   "outputs": [],
   "source": []
  }
 ]
}